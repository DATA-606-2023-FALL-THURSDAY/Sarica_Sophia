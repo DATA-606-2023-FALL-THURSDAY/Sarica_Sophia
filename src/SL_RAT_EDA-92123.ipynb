{
 "cells": [
  {
   "cell_type": "markdown",
   "metadata": {
    "id": "F__mh4-zoJnY"
   },
   "source": [
    "# SL-RAT Score Prediction Project "
   ]
  },
  {
   "cell_type": "markdown",
   "metadata": {},
   "source": [
    "### Introduction\n",
    "\n",
    "This dataset contains the data from Baltimore County Sewer System SL-RAT Scores.\n",
    "As the raw dataset is limited and cannot be shared publicly, the following output provides a limited view of the data and serves as a limited exploration of the dataset."
   ]
  },
  {
   "cell_type": "markdown",
   "metadata": {},
   "source": [
    "### Data and Setup\n",
    "\n",
    "The following columns contain SL-RAT Score data and GIS Attributes data from Baltimore County Sewer Systems.\n",
    " \n",
    "\n",
    "- `FACILITYID`: Unique number between two manholes. \n",
    "- `Workorderid`: Unique Workorder Number for each assesments for the asset. \n",
    "- `ACTIVITY_CODE`: Activity type on each assessment \n",
    "- `COMPLETED_DATE`: Finish day of Activity  \n",
    "- `SLRAT_SCORE`: Sl-rat scores between 0-10.\n",
    "- `TYPE`: Type of the pipe \n",
    "- `LINING_TYP`: Type of the pipe connections\n",
    "- `PIPE_SIZE`: Size of Pipe  \n",
    "- `PIPE_MATER`: Material of Pipe\n",
    "- `SLOPE`: Slope for each FacilityID \n",
    "- `LENGTH`: Lenght of Pipe\n",
    "- `INSTALL_DA`: Time since the installation date\n"
   ]
  },
  {
   "cell_type": "markdown",
   "metadata": {},
   "source": [
    "### 1.  Importing Libraries "
   ]
  },
  {
   "cell_type": "code",
   "execution_count": 54,
   "metadata": {},
   "outputs": [
    {
     "name": "stdout",
     "output_type": "stream",
     "text": [
      "Pandas 1.3.4\n"
     ]
    }
   ],
   "source": [
    "#importing libraries\n",
    "import pandas as pd\n",
    "import matplotlib.pylab as plt\n",
    "import seaborn as sns\n",
    "import time\n",
    "print('Pandas',pd.__version__)"
   ]
  },
  {
   "cell_type": "markdown",
   "metadata": {},
   "source": [
    "### 2. Reading the data from Workorder table"
   ]
  },
  {
   "cell_type": "code",
   "execution_count": 55,
   "metadata": {
    "id": "SAjMTQV6o34t"
   },
   "outputs": [
    {
     "data": {
      "text/html": [
       "<div>\n",
       "<style scoped>\n",
       "    .dataframe tbody tr th:only-of-type {\n",
       "        vertical-align: middle;\n",
       "    }\n",
       "\n",
       "    .dataframe tbody tr th {\n",
       "        vertical-align: top;\n",
       "    }\n",
       "\n",
       "    .dataframe thead th {\n",
       "        text-align: right;\n",
       "    }\n",
       "</style>\n",
       "<table border=\"1\" class=\"dataframe\">\n",
       "  <thead>\n",
       "    <tr style=\"text-align: right;\">\n",
       "      <th></th>\n",
       "      <th>WORKORDERID</th>\n",
       "      <th>DESCRIPTION</th>\n",
       "      <th>ENTITYTYPE</th>\n",
       "      <th>SLRAT_SCORE</th>\n",
       "      <th>CATEGORY</th>\n",
       "      <th>rk</th>\n",
       "      <th>FACILITYID</th>\n",
       "      <th>COMPLETED_DATE</th>\n",
       "    </tr>\n",
       "  </thead>\n",
       "  <tbody>\n",
       "    <tr>\n",
       "      <th>0</th>\n",
       "      <td>1052432</td>\n",
       "      <td>Gravity Main-SLRAT</td>\n",
       "      <td>SSGRAVITYMAIN</td>\n",
       "      <td>9</td>\n",
       "      <td>SLRAT</td>\n",
       "      <td>1</td>\n",
       "      <td>29333-29332</td>\n",
       "      <td>2023-09-21 11:30:00</td>\n",
       "    </tr>\n",
       "    <tr>\n",
       "      <th>1</th>\n",
       "      <td>1052437</td>\n",
       "      <td>Gravity Main-SLRAT</td>\n",
       "      <td>SSGRAVITYMAIN</td>\n",
       "      <td>9</td>\n",
       "      <td>SLRAT</td>\n",
       "      <td>1</td>\n",
       "      <td>29335-29334</td>\n",
       "      <td>2023-09-21 11:00:00</td>\n",
       "    </tr>\n",
       "    <tr>\n",
       "      <th>2</th>\n",
       "      <td>1052449</td>\n",
       "      <td>Gravity Main-SLRAT</td>\n",
       "      <td>SSGRAVITYMAIN</td>\n",
       "      <td>7</td>\n",
       "      <td>SLRAT</td>\n",
       "      <td>1</td>\n",
       "      <td>30140-30138</td>\n",
       "      <td>2023-09-21 10:50:00</td>\n",
       "    </tr>\n",
       "    <tr>\n",
       "      <th>3</th>\n",
       "      <td>1052443</td>\n",
       "      <td>Gravity Main-SLRAT</td>\n",
       "      <td>SSGRAVITYMAIN</td>\n",
       "      <td>7</td>\n",
       "      <td>SLRAT</td>\n",
       "      <td>1</td>\n",
       "      <td>30149-30148</td>\n",
       "      <td>2023-09-21 10:35:00</td>\n",
       "    </tr>\n",
       "    <tr>\n",
       "      <th>4</th>\n",
       "      <td>1053518</td>\n",
       "      <td>Gravity Main-SLRAT</td>\n",
       "      <td>SSGRAVITYMAIN</td>\n",
       "      <td>1</td>\n",
       "      <td>SLRAT</td>\n",
       "      <td>1</td>\n",
       "      <td>902082-902081</td>\n",
       "      <td>2023-09-20 15:00:00</td>\n",
       "    </tr>\n",
       "  </tbody>\n",
       "</table>\n",
       "</div>"
      ],
      "text/plain": [
       "   WORKORDERID         DESCRIPTION     ENTITYTYPE SLRAT_SCORE CATEGORY  rk  \\\n",
       "0      1052432  Gravity Main-SLRAT  SSGRAVITYMAIN           9    SLRAT   1   \n",
       "1      1052437  Gravity Main-SLRAT  SSGRAVITYMAIN           9    SLRAT   1   \n",
       "2      1052449  Gravity Main-SLRAT  SSGRAVITYMAIN           7    SLRAT   1   \n",
       "3      1052443  Gravity Main-SLRAT  SSGRAVITYMAIN           7    SLRAT   1   \n",
       "4      1053518  Gravity Main-SLRAT  SSGRAVITYMAIN           1    SLRAT   1   \n",
       "\n",
       "      FACILITYID      COMPLETED_DATE  \n",
       "0    29333-29332 2023-09-21 11:30:00  \n",
       "1    29335-29334 2023-09-21 11:00:00  \n",
       "2    30140-30138 2023-09-21 10:50:00  \n",
       "3    30149-30148 2023-09-21 10:35:00  \n",
       "4  902082-902081 2023-09-20 15:00:00  "
      ]
     },
     "execution_count": 55,
     "metadata": {},
     "output_type": "execute_result"
    }
   ],
   "source": [
    "# read the SLRAT data \n",
    "df= pd.read_excel('sl-rat-92123.xlsx')\n",
    "# df= pd.read_excel('SLRAT_analysis.xlsx')\n",
    "\n",
    "if 'FacilityID' in df.columns:\n",
    "    df['FACILITYID'] = df['FacilityID']\n",
    "    df['COMPLETED_DATE'] = df['ACTUALFINISHDATE']\n",
    "    df.drop(['FacilityID', 'ACTUALFINISHDATE'], inplace=True, axis =1 )\n",
    "\n",
    "\n",
    "# needed_rows = ['SLRAT' in x or 'Clean' in x for x in df['ACTIVITY_CODE']]\n",
    "# df = df[needed_rows].reset_index(drop=True).copy()\n",
    "df.head()"
   ]
  },
  {
   "cell_type": "markdown",
   "metadata": {},
   "source": [
    "### 3.  Check for missing values and datatypes\n"
   ]
  },
  {
   "cell_type": "code",
   "execution_count": 56,
   "metadata": {
    "id": "Ks1d2s68_v7T"
   },
   "outputs": [
    {
     "name": "stdout",
     "output_type": "stream",
     "text": [
      "<class 'pandas.core.frame.DataFrame'>\n",
      "RangeIndex: 43584 entries, 0 to 43583\n",
      "Data columns (total 8 columns):\n",
      " #   Column          Non-Null Count  Dtype         \n",
      "---  ------          --------------  -----         \n",
      " 0   WORKORDERID     43584 non-null  int64         \n",
      " 1   DESCRIPTION     43584 non-null  object        \n",
      " 2   ENTITYTYPE      43584 non-null  object        \n",
      " 3   SLRAT_SCORE     38808 non-null  object        \n",
      " 4   CATEGORY        43584 non-null  object        \n",
      " 5   rk              43584 non-null  int64         \n",
      " 6   FACILITYID      43584 non-null  object        \n",
      " 7   COMPLETED_DATE  39717 non-null  datetime64[ns]\n",
      "dtypes: datetime64[ns](1), int64(2), object(5)\n",
      "memory usage: 2.7+ MB\n"
     ]
    }
   ],
   "source": [
    "df.info()"
   ]
  },
  {
   "cell_type": "markdown",
   "metadata": {},
   "source": [
    "### 4. Getting Neccessary Columns from Workorder table"
   ]
  },
  {
   "cell_type": "code",
   "execution_count": 57,
   "metadata": {
    "id": "R0jaGbSPwNss"
   },
   "outputs": [],
   "source": [
    "#Select necessary columns from SL-RAT file\n",
    "columns= ['FACILITYID','COMPLETED_DATE', 'SLRAT_SCORE', 'rk']"
   ]
  },
  {
   "cell_type": "code",
   "execution_count": 58,
   "metadata": {},
   "outputs": [],
   "source": [
    "df=df[columns]"
   ]
  },
  {
   "cell_type": "code",
   "execution_count": 59,
   "metadata": {
    "colab": {
     "base_uri": "https://localhost:8080/",
     "height": 206
    },
    "id": "ufL1VmpLrIlU",
    "outputId": "52c3ff78-3304-4d68-e6e3-cfef5fef80ff"
   },
   "outputs": [
    {
     "data": {
      "text/html": [
       "<div>\n",
       "<style scoped>\n",
       "    .dataframe tbody tr th:only-of-type {\n",
       "        vertical-align: middle;\n",
       "    }\n",
       "\n",
       "    .dataframe tbody tr th {\n",
       "        vertical-align: top;\n",
       "    }\n",
       "\n",
       "    .dataframe thead th {\n",
       "        text-align: right;\n",
       "    }\n",
       "</style>\n",
       "<table border=\"1\" class=\"dataframe\">\n",
       "  <thead>\n",
       "    <tr style=\"text-align: right;\">\n",
       "      <th></th>\n",
       "      <th>FACILITYID</th>\n",
       "      <th>COMPLETED_DATE</th>\n",
       "      <th>SLRAT_SCORE</th>\n",
       "      <th>rk</th>\n",
       "    </tr>\n",
       "  </thead>\n",
       "  <tbody>\n",
       "    <tr>\n",
       "      <th>0</th>\n",
       "      <td>29333-29332</td>\n",
       "      <td>2023-09-21 11:30:00</td>\n",
       "      <td>9</td>\n",
       "      <td>1</td>\n",
       "    </tr>\n",
       "    <tr>\n",
       "      <th>1</th>\n",
       "      <td>29335-29334</td>\n",
       "      <td>2023-09-21 11:00:00</td>\n",
       "      <td>9</td>\n",
       "      <td>1</td>\n",
       "    </tr>\n",
       "    <tr>\n",
       "      <th>2</th>\n",
       "      <td>30140-30138</td>\n",
       "      <td>2023-09-21 10:50:00</td>\n",
       "      <td>7</td>\n",
       "      <td>1</td>\n",
       "    </tr>\n",
       "    <tr>\n",
       "      <th>3</th>\n",
       "      <td>30149-30148</td>\n",
       "      <td>2023-09-21 10:35:00</td>\n",
       "      <td>7</td>\n",
       "      <td>1</td>\n",
       "    </tr>\n",
       "    <tr>\n",
       "      <th>4</th>\n",
       "      <td>902082-902081</td>\n",
       "      <td>2023-09-20 15:00:00</td>\n",
       "      <td>1</td>\n",
       "      <td>1</td>\n",
       "    </tr>\n",
       "  </tbody>\n",
       "</table>\n",
       "</div>"
      ],
      "text/plain": [
       "      FACILITYID      COMPLETED_DATE SLRAT_SCORE  rk\n",
       "0    29333-29332 2023-09-21 11:30:00           9   1\n",
       "1    29335-29334 2023-09-21 11:00:00           9   1\n",
       "2    30140-30138 2023-09-21 10:50:00           7   1\n",
       "3    30149-30148 2023-09-21 10:35:00           7   1\n",
       "4  902082-902081 2023-09-20 15:00:00           1   1"
      ]
     },
     "execution_count": 59,
     "metadata": {},
     "output_type": "execute_result"
    }
   ],
   "source": [
    "df.head()"
   ]
  },
  {
   "cell_type": "code",
   "execution_count": 60,
   "metadata": {},
   "outputs": [
    {
     "name": "stdout",
     "output_type": "stream",
     "text": [
      "<class 'pandas.core.frame.DataFrame'>\n",
      "RangeIndex: 43584 entries, 0 to 43583\n",
      "Data columns (total 4 columns):\n",
      " #   Column          Non-Null Count  Dtype         \n",
      "---  ------          --------------  -----         \n",
      " 0   FACILITYID      43584 non-null  object        \n",
      " 1   COMPLETED_DATE  39717 non-null  datetime64[ns]\n",
      " 2   SLRAT_SCORE     38808 non-null  object        \n",
      " 3   rk              43584 non-null  int64         \n",
      "dtypes: datetime64[ns](1), int64(1), object(2)\n",
      "memory usage: 1.3+ MB\n"
     ]
    }
   ],
   "source": [
    "df.info()"
   ]
  },
  {
   "cell_type": "markdown",
   "metadata": {},
   "source": [
    "### 5. Exploring the data!"
   ]
  },
  {
   "cell_type": "markdown",
   "metadata": {},
   "source": [
    "Let's explore the data!"
   ]
  },
  {
   "cell_type": "code",
   "execution_count": 61,
   "metadata": {},
   "outputs": [
    {
     "data": {
      "text/html": [
       "<div>\n",
       "<style scoped>\n",
       "    .dataframe tbody tr th:only-of-type {\n",
       "        vertical-align: middle;\n",
       "    }\n",
       "\n",
       "    .dataframe tbody tr th {\n",
       "        vertical-align: top;\n",
       "    }\n",
       "\n",
       "    .dataframe thead th {\n",
       "        text-align: right;\n",
       "    }\n",
       "</style>\n",
       "<table border=\"1\" class=\"dataframe\">\n",
       "  <thead>\n",
       "    <tr style=\"text-align: right;\">\n",
       "      <th></th>\n",
       "      <th>FACILITYID</th>\n",
       "      <th>COMPLETED_DATE</th>\n",
       "      <th>SLRAT_SCORE</th>\n",
       "      <th>rk</th>\n",
       "    </tr>\n",
       "  </thead>\n",
       "  <tbody>\n",
       "    <tr>\n",
       "      <th>0</th>\n",
       "      <td>0</td>\n",
       "      <td>NaT</td>\n",
       "      <td>NaN</td>\n",
       "      <td>1</td>\n",
       "    </tr>\n",
       "    <tr>\n",
       "      <th>1</th>\n",
       "      <td>0</td>\n",
       "      <td>NaT</td>\n",
       "      <td>NaN</td>\n",
       "      <td>1</td>\n",
       "    </tr>\n",
       "    <tr>\n",
       "      <th>2</th>\n",
       "      <td>0</td>\n",
       "      <td>NaT</td>\n",
       "      <td>NaN</td>\n",
       "      <td>1</td>\n",
       "    </tr>\n",
       "    <tr>\n",
       "      <th>3</th>\n",
       "      <td>0</td>\n",
       "      <td>NaT</td>\n",
       "      <td>NaN</td>\n",
       "      <td>1</td>\n",
       "    </tr>\n",
       "    <tr>\n",
       "      <th>4</th>\n",
       "      <td>0</td>\n",
       "      <td>NaT</td>\n",
       "      <td>NaN</td>\n",
       "      <td>1</td>\n",
       "    </tr>\n",
       "    <tr>\n",
       "      <th>5</th>\n",
       "      <td>0</td>\n",
       "      <td>NaT</td>\n",
       "      <td>NaN</td>\n",
       "      <td>1</td>\n",
       "    </tr>\n",
       "    <tr>\n",
       "      <th>6</th>\n",
       "      <td>0</td>\n",
       "      <td>NaT</td>\n",
       "      <td>NaN</td>\n",
       "      <td>1</td>\n",
       "    </tr>\n",
       "    <tr>\n",
       "      <th>7</th>\n",
       "      <td>0</td>\n",
       "      <td>NaT</td>\n",
       "      <td>NaN</td>\n",
       "      <td>1</td>\n",
       "    </tr>\n",
       "    <tr>\n",
       "      <th>8</th>\n",
       "      <td>0</td>\n",
       "      <td>NaT</td>\n",
       "      <td>NaN</td>\n",
       "      <td>1</td>\n",
       "    </tr>\n",
       "    <tr>\n",
       "      <th>9</th>\n",
       "      <td>46868</td>\n",
       "      <td>2022-12-20 13:00:00</td>\n",
       "      <td>9</td>\n",
       "      <td>1</td>\n",
       "    </tr>\n",
       "    <tr>\n",
       "      <th>10</th>\n",
       "      <td>68592</td>\n",
       "      <td>2021-04-07 18:35:00</td>\n",
       "      <td>7</td>\n",
       "      <td>1</td>\n",
       "    </tr>\n",
       "    <tr>\n",
       "      <th>11</th>\n",
       "      <td>100-99</td>\n",
       "      <td>NaT</td>\n",
       "      <td>NaN</td>\n",
       "      <td>1</td>\n",
       "    </tr>\n",
       "    <tr>\n",
       "      <th>12</th>\n",
       "      <td>1000-1000M</td>\n",
       "      <td>2015-12-05 00:00:00</td>\n",
       "      <td>2</td>\n",
       "      <td>2</td>\n",
       "    </tr>\n",
       "    <tr>\n",
       "      <th>13</th>\n",
       "      <td>1000-1000M</td>\n",
       "      <td>2017-10-26 00:00:00</td>\n",
       "      <td>0</td>\n",
       "      <td>1</td>\n",
       "    </tr>\n",
       "    <tr>\n",
       "      <th>14</th>\n",
       "      <td>1000-1000M</td>\n",
       "      <td>NaT</td>\n",
       "      <td>NaN</td>\n",
       "      <td>3</td>\n",
       "    </tr>\n",
       "    <tr>\n",
       "      <th>15</th>\n",
       "      <td>10000-10002</td>\n",
       "      <td>2020-11-16 09:00:00</td>\n",
       "      <td>0</td>\n",
       "      <td>1</td>\n",
       "    </tr>\n",
       "    <tr>\n",
       "      <th>16</th>\n",
       "      <td>10002-9995</td>\n",
       "      <td>2020-11-16 09:30:00</td>\n",
       "      <td>0</td>\n",
       "      <td>1</td>\n",
       "    </tr>\n",
       "    <tr>\n",
       "      <th>17</th>\n",
       "      <td>10003-10004</td>\n",
       "      <td>2020-11-17 09:15:00</td>\n",
       "      <td>0</td>\n",
       "      <td>1</td>\n",
       "    </tr>\n",
       "    <tr>\n",
       "      <th>18</th>\n",
       "      <td>10004-9986</td>\n",
       "      <td>2020-11-17 09:30:00</td>\n",
       "      <td>0</td>\n",
       "      <td>1</td>\n",
       "    </tr>\n",
       "    <tr>\n",
       "      <th>19</th>\n",
       "      <td>10005-10006</td>\n",
       "      <td>2020-11-16 11:30:00</td>\n",
       "      <td>0</td>\n",
       "      <td>1</td>\n",
       "    </tr>\n",
       "    <tr>\n",
       "      <th>20</th>\n",
       "      <td>10006-9990</td>\n",
       "      <td>2020-11-16 11:15:00</td>\n",
       "      <td>0</td>\n",
       "      <td>1</td>\n",
       "    </tr>\n",
       "    <tr>\n",
       "      <th>21</th>\n",
       "      <td>10007-10008</td>\n",
       "      <td>2020-11-16 10:45:00</td>\n",
       "      <td>5</td>\n",
       "      <td>1</td>\n",
       "    </tr>\n",
       "    <tr>\n",
       "      <th>22</th>\n",
       "      <td>10008-9994</td>\n",
       "      <td>2020-11-16 10:30:00</td>\n",
       "      <td>4</td>\n",
       "      <td>1</td>\n",
       "    </tr>\n",
       "    <tr>\n",
       "      <th>23</th>\n",
       "      <td>10009-10013</td>\n",
       "      <td>NaT</td>\n",
       "      <td>NaN</td>\n",
       "      <td>1</td>\n",
       "    </tr>\n",
       "    <tr>\n",
       "      <th>24</th>\n",
       "      <td>1000M-1008</td>\n",
       "      <td>2015-12-05 00:00:00</td>\n",
       "      <td>0</td>\n",
       "      <td>1</td>\n",
       "    </tr>\n",
       "    <tr>\n",
       "      <th>25</th>\n",
       "      <td>1000M-1008</td>\n",
       "      <td>NaT</td>\n",
       "      <td>NaN</td>\n",
       "      <td>2</td>\n",
       "    </tr>\n",
       "    <tr>\n",
       "      <th>26</th>\n",
       "      <td>10010-10009</td>\n",
       "      <td>NaT</td>\n",
       "      <td>NaN</td>\n",
       "      <td>1</td>\n",
       "    </tr>\n",
       "    <tr>\n",
       "      <th>27</th>\n",
       "      <td>10011-10010</td>\n",
       "      <td>NaT</td>\n",
       "      <td>NaN</td>\n",
       "      <td>1</td>\n",
       "    </tr>\n",
       "    <tr>\n",
       "      <th>28</th>\n",
       "      <td>10012-10011</td>\n",
       "      <td>NaT</td>\n",
       "      <td>NaN</td>\n",
       "      <td>1</td>\n",
       "    </tr>\n",
       "    <tr>\n",
       "      <th>29</th>\n",
       "      <td>10013-900729</td>\n",
       "      <td>NaT</td>\n",
       "      <td>NaN</td>\n",
       "      <td>1</td>\n",
       "    </tr>\n",
       "    <tr>\n",
       "      <th>30</th>\n",
       "      <td>10017-9833</td>\n",
       "      <td>2019-09-18 00:00:00</td>\n",
       "      <td>6</td>\n",
       "      <td>1</td>\n",
       "    </tr>\n",
       "    <tr>\n",
       "      <th>31</th>\n",
       "      <td>1003-3279</td>\n",
       "      <td>2023-03-29 10:30:00</td>\n",
       "      <td>8</td>\n",
       "      <td>1</td>\n",
       "    </tr>\n",
       "    <tr>\n",
       "      <th>32</th>\n",
       "      <td>1004-946</td>\n",
       "      <td>2015-11-25 00:00:00</td>\n",
       "      <td>5</td>\n",
       "      <td>2</td>\n",
       "    </tr>\n",
       "    <tr>\n",
       "      <th>33</th>\n",
       "      <td>1004-946</td>\n",
       "      <td>2018-05-18 00:00:00</td>\n",
       "      <td>2</td>\n",
       "      <td>1</td>\n",
       "    </tr>\n",
       "    <tr>\n",
       "      <th>34</th>\n",
       "      <td>1004-946</td>\n",
       "      <td>NaT</td>\n",
       "      <td>NaN</td>\n",
       "      <td>3</td>\n",
       "    </tr>\n",
       "    <tr>\n",
       "      <th>35</th>\n",
       "      <td>1004-946</td>\n",
       "      <td>NaT</td>\n",
       "      <td>NaN</td>\n",
       "      <td>3</td>\n",
       "    </tr>\n",
       "    <tr>\n",
       "      <th>36</th>\n",
       "      <td>10040-10109</td>\n",
       "      <td>2018-01-02 00:00:00</td>\n",
       "      <td>6</td>\n",
       "      <td>1</td>\n",
       "    </tr>\n",
       "    <tr>\n",
       "      <th>37</th>\n",
       "      <td>10041-10040</td>\n",
       "      <td>2018-01-02 00:00:00</td>\n",
       "      <td>9</td>\n",
       "      <td>1</td>\n",
       "    </tr>\n",
       "    <tr>\n",
       "      <th>38</th>\n",
       "      <td>10042-10041</td>\n",
       "      <td>2018-01-02 00:00:00</td>\n",
       "      <td>7</td>\n",
       "      <td>1</td>\n",
       "    </tr>\n",
       "    <tr>\n",
       "      <th>39</th>\n",
       "      <td>10043-10042</td>\n",
       "      <td>2018-01-02 00:00:00</td>\n",
       "      <td>0</td>\n",
       "      <td>1</td>\n",
       "    </tr>\n",
       "    <tr>\n",
       "      <th>40</th>\n",
       "      <td>10043-10042</td>\n",
       "      <td>2018-01-02 00:00:00</td>\n",
       "      <td>0</td>\n",
       "      <td>1</td>\n",
       "    </tr>\n",
       "    <tr>\n",
       "      <th>41</th>\n",
       "      <td>10043-10042</td>\n",
       "      <td>NaT</td>\n",
       "      <td>NaN</td>\n",
       "      <td>3</td>\n",
       "    </tr>\n",
       "    <tr>\n",
       "      <th>42</th>\n",
       "      <td>10044-10043</td>\n",
       "      <td>2018-01-02 00:00:00</td>\n",
       "      <td>0</td>\n",
       "      <td>1</td>\n",
       "    </tr>\n",
       "    <tr>\n",
       "      <th>43</th>\n",
       "      <td>10044-10043</td>\n",
       "      <td>NaT</td>\n",
       "      <td>NaN</td>\n",
       "      <td>2</td>\n",
       "    </tr>\n",
       "    <tr>\n",
       "      <th>44</th>\n",
       "      <td>10045-10107</td>\n",
       "      <td>2018-01-03 00:00:00</td>\n",
       "      <td>8</td>\n",
       "      <td>1</td>\n",
       "    </tr>\n",
       "    <tr>\n",
       "      <th>45</th>\n",
       "      <td>10046-10045</td>\n",
       "      <td>2018-01-03 00:00:00</td>\n",
       "      <td>6</td>\n",
       "      <td>1</td>\n",
       "    </tr>\n",
       "    <tr>\n",
       "      <th>46</th>\n",
       "      <td>10047-10046</td>\n",
       "      <td>2018-01-03 00:00:00</td>\n",
       "      <td>2</td>\n",
       "      <td>1</td>\n",
       "    </tr>\n",
       "    <tr>\n",
       "      <th>47</th>\n",
       "      <td>10047-10046</td>\n",
       "      <td>NaT</td>\n",
       "      <td>NaN</td>\n",
       "      <td>2</td>\n",
       "    </tr>\n",
       "    <tr>\n",
       "      <th>48</th>\n",
       "      <td>10048-9823</td>\n",
       "      <td>2023-07-07 08:25:55</td>\n",
       "      <td>9</td>\n",
       "      <td>1</td>\n",
       "    </tr>\n",
       "    <tr>\n",
       "      <th>49</th>\n",
       "      <td>10049-10048</td>\n",
       "      <td>2023-07-07 08:10:33</td>\n",
       "      <td>1</td>\n",
       "      <td>1</td>\n",
       "    </tr>\n",
       "  </tbody>\n",
       "</table>\n",
       "</div>"
      ],
      "text/plain": [
       "      FACILITYID      COMPLETED_DATE SLRAT_SCORE  rk\n",
       "0              0                 NaT         NaN   1\n",
       "1              0                 NaT         NaN   1\n",
       "2              0                 NaT         NaN   1\n",
       "3              0                 NaT         NaN   1\n",
       "4              0                 NaT         NaN   1\n",
       "5              0                 NaT         NaN   1\n",
       "6              0                 NaT         NaN   1\n",
       "7              0                 NaT         NaN   1\n",
       "8              0                 NaT         NaN   1\n",
       "9          46868 2022-12-20 13:00:00           9   1\n",
       "10         68592 2021-04-07 18:35:00           7   1\n",
       "11        100-99                 NaT         NaN   1\n",
       "12    1000-1000M 2015-12-05 00:00:00           2   2\n",
       "13    1000-1000M 2017-10-26 00:00:00           0   1\n",
       "14    1000-1000M                 NaT         NaN   3\n",
       "15   10000-10002 2020-11-16 09:00:00           0   1\n",
       "16    10002-9995 2020-11-16 09:30:00           0   1\n",
       "17   10003-10004 2020-11-17 09:15:00           0   1\n",
       "18    10004-9986 2020-11-17 09:30:00           0   1\n",
       "19   10005-10006 2020-11-16 11:30:00           0   1\n",
       "20    10006-9990 2020-11-16 11:15:00           0   1\n",
       "21   10007-10008 2020-11-16 10:45:00           5   1\n",
       "22    10008-9994 2020-11-16 10:30:00           4   1\n",
       "23   10009-10013                 NaT         NaN   1\n",
       "24    1000M-1008 2015-12-05 00:00:00           0   1\n",
       "25    1000M-1008                 NaT         NaN   2\n",
       "26   10010-10009                 NaT         NaN   1\n",
       "27   10011-10010                 NaT         NaN   1\n",
       "28   10012-10011                 NaT         NaN   1\n",
       "29  10013-900729                 NaT         NaN   1\n",
       "30    10017-9833 2019-09-18 00:00:00           6   1\n",
       "31     1003-3279 2023-03-29 10:30:00           8   1\n",
       "32      1004-946 2015-11-25 00:00:00           5   2\n",
       "33      1004-946 2018-05-18 00:00:00           2   1\n",
       "34      1004-946                 NaT         NaN   3\n",
       "35      1004-946                 NaT         NaN   3\n",
       "36   10040-10109 2018-01-02 00:00:00           6   1\n",
       "37   10041-10040 2018-01-02 00:00:00           9   1\n",
       "38   10042-10041 2018-01-02 00:00:00           7   1\n",
       "39   10043-10042 2018-01-02 00:00:00           0   1\n",
       "40   10043-10042 2018-01-02 00:00:00           0   1\n",
       "41   10043-10042                 NaT         NaN   3\n",
       "42   10044-10043 2018-01-02 00:00:00           0   1\n",
       "43   10044-10043                 NaT         NaN   2\n",
       "44   10045-10107 2018-01-03 00:00:00           8   1\n",
       "45   10046-10045 2018-01-03 00:00:00           6   1\n",
       "46   10047-10046 2018-01-03 00:00:00           2   1\n",
       "47   10047-10046                 NaT         NaN   2\n",
       "48    10048-9823 2023-07-07 08:25:55           9   1\n",
       "49   10049-10048 2023-07-07 08:10:33           1   1"
      ]
     },
     "execution_count": 61,
     "metadata": {},
     "output_type": "execute_result"
    }
   ],
   "source": [
    "df = df.sort_values(by=['FACILITYID','COMPLETED_DATE']).reset_index(drop=True).copy()\n",
    "df.head(50)"
   ]
  },
  {
   "cell_type": "markdown",
   "metadata": {},
   "source": [
    "### Removal of Unnecessary Data"
   ]
  },
  {
   "cell_type": "markdown",
   "metadata": {},
   "source": [
    "We need only sl-rat scores that occur more than once. To identify and remove unnecessary SL-rat scores,first added an \"rk\" column to show which scores occur more than once. After identifying these scores,removed the \"rk\" column.\n",
    "Note: The \"rk\" column is added through the SQL query when collecting the data to indicate how many times each asset receives a score."
   ]
  },
  {
   "cell_type": "code",
   "execution_count": 62,
   "metadata": {},
   "outputs": [
    {
     "name": "stdout",
     "output_type": "stream",
     "text": [
      "5071\n"
     ]
    },
    {
     "data": {
      "text/html": [
       "<div>\n",
       "<style scoped>\n",
       "    .dataframe tbody tr th:only-of-type {\n",
       "        vertical-align: middle;\n",
       "    }\n",
       "\n",
       "    .dataframe tbody tr th {\n",
       "        vertical-align: top;\n",
       "    }\n",
       "\n",
       "    .dataframe thead th {\n",
       "        text-align: right;\n",
       "    }\n",
       "</style>\n",
       "<table border=\"1\" class=\"dataframe\">\n",
       "  <thead>\n",
       "    <tr style=\"text-align: right;\">\n",
       "      <th></th>\n",
       "      <th>FACILITYID</th>\n",
       "      <th>COMPLETED_DATE</th>\n",
       "      <th>SLRAT_SCORE</th>\n",
       "      <th>rk</th>\n",
       "    </tr>\n",
       "  </thead>\n",
       "  <tbody>\n",
       "    <tr>\n",
       "      <th>0</th>\n",
       "      <td>1000-1000M</td>\n",
       "      <td>2017-10-26</td>\n",
       "      <td>0</td>\n",
       "      <td>1</td>\n",
       "    </tr>\n",
       "    <tr>\n",
       "      <th>1</th>\n",
       "      <td>1000-1000M</td>\n",
       "      <td>2015-12-05</td>\n",
       "      <td>2</td>\n",
       "      <td>2</td>\n",
       "    </tr>\n",
       "    <tr>\n",
       "      <th>2</th>\n",
       "      <td>1000-1000M</td>\n",
       "      <td>NaT</td>\n",
       "      <td>NaN</td>\n",
       "      <td>3</td>\n",
       "    </tr>\n",
       "    <tr>\n",
       "      <th>3</th>\n",
       "      <td>1000M-1008</td>\n",
       "      <td>2015-12-05</td>\n",
       "      <td>0</td>\n",
       "      <td>1</td>\n",
       "    </tr>\n",
       "    <tr>\n",
       "      <th>4</th>\n",
       "      <td>1000M-1008</td>\n",
       "      <td>NaT</td>\n",
       "      <td>NaN</td>\n",
       "      <td>2</td>\n",
       "    </tr>\n",
       "    <tr>\n",
       "      <th>...</th>\n",
       "      <td>...</td>\n",
       "      <td>...</td>\n",
       "      <td>...</td>\n",
       "      <td>...</td>\n",
       "    </tr>\n",
       "    <tr>\n",
       "      <th>12840</th>\n",
       "      <td>TCM19-11468</td>\n",
       "      <td>NaT</td>\n",
       "      <td>NaN</td>\n",
       "      <td>2</td>\n",
       "    </tr>\n",
       "    <tr>\n",
       "      <th>12841</th>\n",
       "      <td>TCM52-TCM22</td>\n",
       "      <td>2017-09-19</td>\n",
       "      <td>NaN</td>\n",
       "      <td>1</td>\n",
       "    </tr>\n",
       "    <tr>\n",
       "      <th>12842</th>\n",
       "      <td>TCM52-TCM22</td>\n",
       "      <td>NaT</td>\n",
       "      <td>NaN</td>\n",
       "      <td>2</td>\n",
       "    </tr>\n",
       "    <tr>\n",
       "      <th>12843</th>\n",
       "      <td>TCM78-1015</td>\n",
       "      <td>2019-01-16</td>\n",
       "      <td>4</td>\n",
       "      <td>1</td>\n",
       "    </tr>\n",
       "    <tr>\n",
       "      <th>12844</th>\n",
       "      <td>TCM78-1015</td>\n",
       "      <td>NaT</td>\n",
       "      <td>NaN</td>\n",
       "      <td>2</td>\n",
       "    </tr>\n",
       "  </tbody>\n",
       "</table>\n",
       "<p>12845 rows × 4 columns</p>\n",
       "</div>"
      ],
      "text/plain": [
       "        FACILITYID COMPLETED_DATE SLRAT_SCORE  rk\n",
       "0       1000-1000M     2017-10-26           0   1\n",
       "1       1000-1000M     2015-12-05           2   2\n",
       "2       1000-1000M            NaT         NaN   3\n",
       "3       1000M-1008     2015-12-05           0   1\n",
       "4       1000M-1008            NaT         NaN   2\n",
       "...            ...            ...         ...  ..\n",
       "12840  TCM19-11468            NaT         NaN   2\n",
       "12841  TCM52-TCM22     2017-09-19         NaN   1\n",
       "12842  TCM52-TCM22            NaT         NaN   2\n",
       "12843   TCM78-1015     2019-01-16           4   1\n",
       "12844   TCM78-1015            NaT         NaN   2\n",
       "\n",
       "[12845 rows x 4 columns]"
      ]
     },
     "execution_count": 62,
     "metadata": {},
     "output_type": "execute_result"
    }
   ],
   "source": [
    "# # Adding&removing rk column to get rid of the unnecessary sl-rat scores\n",
    "# counts = df.FACILITYID.value_counts().to_dict()\n",
    "\n",
    "# df['rk'] = [counts[x] for x in df.FACILITYID]\n",
    "\n",
    "# df = df[df.rk > 1].reset_index(drop=True).copy()\n",
    "# df.drop('rk', axis=1, inplace=True)\n",
    "\n",
    "fac = set( df[df.rk>1]['FACILITYID'])\n",
    "print(len(fac))\n",
    "df = df[df.FACILITYID.isin(fac)].sort_values(by=['FACILITYID', 'COMPLETED_DATE'], ascending=[True, False]).copy().reset_index(drop=True)\n",
    "df"
   ]
  },
  {
   "cell_type": "code",
   "execution_count": 63,
   "metadata": {
    "colab": {
     "base_uri": "https://localhost:8080/"
    },
    "id": "ZPLle1d8sg-Z",
    "outputId": "9fdd61a7-6959-4a57-dda5-f46f10dfc492"
   },
   "outputs": [
    {
     "name": "stdout",
     "output_type": "stream",
     "text": [
      "<class 'pandas.core.frame.DataFrame'>\n",
      "RangeIndex: 12845 entries, 0 to 12844\n",
      "Data columns (total 4 columns):\n",
      " #   Column          Non-Null Count  Dtype         \n",
      "---  ------          --------------  -----         \n",
      " 0   FACILITYID      12845 non-null  object        \n",
      " 1   COMPLETED_DATE  11252 non-null  datetime64[ns]\n",
      " 2   SLRAT_SCORE     11274 non-null  object        \n",
      " 3   rk              12845 non-null  int64         \n",
      "dtypes: datetime64[ns](1), int64(1), object(2)\n",
      "memory usage: 401.5+ KB\n"
     ]
    }
   ],
   "source": [
    "df.info()"
   ]
  },
  {
   "cell_type": "code",
   "execution_count": 64,
   "metadata": {},
   "outputs": [
    {
     "data": {
      "text/plain": [
       "(12845, 4)"
      ]
     },
     "execution_count": 64,
     "metadata": {},
     "output_type": "execute_result"
    }
   ],
   "source": [
    "df.shape"
   ]
  },
  {
   "cell_type": "code",
   "execution_count": 65,
   "metadata": {},
   "outputs": [
    {
     "data": {
      "text/html": [
       "<div>\n",
       "<style scoped>\n",
       "    .dataframe tbody tr th:only-of-type {\n",
       "        vertical-align: middle;\n",
       "    }\n",
       "\n",
       "    .dataframe tbody tr th {\n",
       "        vertical-align: top;\n",
       "    }\n",
       "\n",
       "    .dataframe thead th {\n",
       "        text-align: right;\n",
       "    }\n",
       "</style>\n",
       "<table border=\"1\" class=\"dataframe\">\n",
       "  <thead>\n",
       "    <tr style=\"text-align: right;\">\n",
       "      <th></th>\n",
       "      <th>FACILITYID</th>\n",
       "      <th>COMPLETED_DATE</th>\n",
       "      <th>SLRAT_SCORE</th>\n",
       "      <th>rk</th>\n",
       "    </tr>\n",
       "  </thead>\n",
       "  <tbody>\n",
       "    <tr>\n",
       "      <th>0</th>\n",
       "      <td>1000-1000M</td>\n",
       "      <td>2017-10-26</td>\n",
       "      <td>0</td>\n",
       "      <td>1</td>\n",
       "    </tr>\n",
       "    <tr>\n",
       "      <th>1</th>\n",
       "      <td>1000-1000M</td>\n",
       "      <td>2015-12-05</td>\n",
       "      <td>2</td>\n",
       "      <td>2</td>\n",
       "    </tr>\n",
       "    <tr>\n",
       "      <th>2</th>\n",
       "      <td>1000-1000M</td>\n",
       "      <td>NaT</td>\n",
       "      <td>NaN</td>\n",
       "      <td>3</td>\n",
       "    </tr>\n",
       "    <tr>\n",
       "      <th>3</th>\n",
       "      <td>1000M-1008</td>\n",
       "      <td>2015-12-05</td>\n",
       "      <td>0</td>\n",
       "      <td>1</td>\n",
       "    </tr>\n",
       "    <tr>\n",
       "      <th>4</th>\n",
       "      <td>1000M-1008</td>\n",
       "      <td>NaT</td>\n",
       "      <td>NaN</td>\n",
       "      <td>2</td>\n",
       "    </tr>\n",
       "    <tr>\n",
       "      <th>...</th>\n",
       "      <td>...</td>\n",
       "      <td>...</td>\n",
       "      <td>...</td>\n",
       "      <td>...</td>\n",
       "    </tr>\n",
       "    <tr>\n",
       "      <th>12840</th>\n",
       "      <td>TCM19-11468</td>\n",
       "      <td>NaT</td>\n",
       "      <td>NaN</td>\n",
       "      <td>2</td>\n",
       "    </tr>\n",
       "    <tr>\n",
       "      <th>12841</th>\n",
       "      <td>TCM52-TCM22</td>\n",
       "      <td>2017-09-19</td>\n",
       "      <td>NaN</td>\n",
       "      <td>1</td>\n",
       "    </tr>\n",
       "    <tr>\n",
       "      <th>12842</th>\n",
       "      <td>TCM52-TCM22</td>\n",
       "      <td>NaT</td>\n",
       "      <td>NaN</td>\n",
       "      <td>2</td>\n",
       "    </tr>\n",
       "    <tr>\n",
       "      <th>12843</th>\n",
       "      <td>TCM78-1015</td>\n",
       "      <td>2019-01-16</td>\n",
       "      <td>4</td>\n",
       "      <td>1</td>\n",
       "    </tr>\n",
       "    <tr>\n",
       "      <th>12844</th>\n",
       "      <td>TCM78-1015</td>\n",
       "      <td>NaT</td>\n",
       "      <td>NaN</td>\n",
       "      <td>2</td>\n",
       "    </tr>\n",
       "  </tbody>\n",
       "</table>\n",
       "<p>12845 rows × 4 columns</p>\n",
       "</div>"
      ],
      "text/plain": [
       "        FACILITYID COMPLETED_DATE SLRAT_SCORE  rk\n",
       "0       1000-1000M     2017-10-26           0   1\n",
       "1       1000-1000M     2015-12-05           2   2\n",
       "2       1000-1000M            NaT         NaN   3\n",
       "3       1000M-1008     2015-12-05           0   1\n",
       "4       1000M-1008            NaT         NaN   2\n",
       "...            ...            ...         ...  ..\n",
       "12840  TCM19-11468            NaT         NaN   2\n",
       "12841  TCM52-TCM22     2017-09-19         NaN   1\n",
       "12842  TCM52-TCM22            NaT         NaN   2\n",
       "12843   TCM78-1015     2019-01-16           4   1\n",
       "12844   TCM78-1015            NaT         NaN   2\n",
       "\n",
       "[12845 rows x 4 columns]"
      ]
     },
     "execution_count": 65,
     "metadata": {},
     "output_type": "execute_result"
    }
   ],
   "source": [
    "df"
   ]
  },
  {
   "cell_type": "code",
   "execution_count": 67,
   "metadata": {},
   "outputs": [
    {
     "data": {
      "text/html": [
       "<div>\n",
       "<style scoped>\n",
       "    .dataframe tbody tr th:only-of-type {\n",
       "        vertical-align: middle;\n",
       "    }\n",
       "\n",
       "    .dataframe tbody tr th {\n",
       "        vertical-align: top;\n",
       "    }\n",
       "\n",
       "    .dataframe thead th {\n",
       "        text-align: right;\n",
       "    }\n",
       "</style>\n",
       "<table border=\"1\" class=\"dataframe\">\n",
       "  <thead>\n",
       "    <tr style=\"text-align: right;\">\n",
       "      <th></th>\n",
       "      <th>FACILITYID</th>\n",
       "      <th>COMPLETED_DATE</th>\n",
       "      <th>SLRAT_SCORE</th>\n",
       "      <th>rk</th>\n",
       "    </tr>\n",
       "  </thead>\n",
       "  <tbody>\n",
       "    <tr>\n",
       "      <th>10006</th>\n",
       "      <td>5908-5907</td>\n",
       "      <td>2019-08-13</td>\n",
       "      <td>0</td>\n",
       "      <td>1</td>\n",
       "    </tr>\n",
       "    <tr>\n",
       "      <th>10007</th>\n",
       "      <td>5908-5907</td>\n",
       "      <td>2019-04-25</td>\n",
       "      <td>2</td>\n",
       "      <td>2</td>\n",
       "    </tr>\n",
       "    <tr>\n",
       "      <th>10008</th>\n",
       "      <td>5908-5907</td>\n",
       "      <td>NaT</td>\n",
       "      <td>NaN</td>\n",
       "      <td>3</td>\n",
       "    </tr>\n",
       "  </tbody>\n",
       "</table>\n",
       "</div>"
      ],
      "text/plain": [
       "      FACILITYID COMPLETED_DATE SLRAT_SCORE  rk\n",
       "10006  5908-5907     2019-08-13           0   1\n",
       "10007  5908-5907     2019-04-25           2   2\n",
       "10008  5908-5907            NaT         NaN   3"
      ]
     },
     "execution_count": 67,
     "metadata": {},
     "output_type": "execute_result"
    }
   ],
   "source": [
    "df[df.FACILITYID=='5908-5907']"
   ]
  },
  {
   "cell_type": "markdown",
   "metadata": {},
   "source": [
    "### 7. Calculating the degradation rate for the Completed Date field.\n"
   ]
  },
  {
   "cell_type": "markdown",
   "metadata": {},
   "source": [
    "This calculation displays the rate of change in SL-RAT scores between the first two occurrences in the COMPLETED_DATE column."
   ]
  },
  {
   "cell_type": "code",
   "execution_count": 68,
   "metadata": {},
   "outputs": [],
   "source": [
    "import numpy as np\n",
    "def agg_func(x):\n",
    "    \"\"\"\n",
    "    I have made an assumption here. \n",
    "    it may have many records and on multiple records, pipes may have been cleaned in between.\n",
    "    so I checked only the first 2 occurance and calculated the rate.\n",
    "    eg: first rate 9  on March 1\n",
    "    second rate 7 on March 15\n",
    "    I calculated the rate by (7 - 9) / 30 \n",
    "    \n",
    "    if rate is positive, I used none because probably it is cleaned and I cannot calculate the rate\n",
    "    \"\"\"\n",
    "    \n",
    "    sc = list(x.SLRAT_SCORE)\n",
    "    dt = list(x.COMPLETED_DATE)\n",
    "#     name = x.FACILITYID.values[0]\n",
    "    \n",
    "    for i in range(len(sc)):\n",
    "        sc_ = sc[i: i+2]\n",
    "        dt_ = dt[i: i+2]\n",
    "        \n",
    "        if len(sc_) != 2:\n",
    "#             print(name, len(sc_))\n",
    "            return None\n",
    "    \n",
    "        if pd.isna(sc_).sum() == 0 and pd.isna(dt_).sum() == 0:\n",
    "            sc1 = sc_[1]\n",
    "            sc0 = sc_[0]\n",
    "            dt1 = dt_[1]\n",
    "            dt0 = dt_[0]\n",
    "            break\n",
    "    \n",
    "#     print(sc0, sc1, dt0, dt1)\n",
    "    if pd.isna(sc1) or pd.isna(sc0):\n",
    "        return None\n",
    "    \n",
    "    if sc1 <= sc0:\n",
    "        return None\n",
    "    \n",
    "    days = (dt1 - dt0).days\n",
    "    if days == 0:\n",
    "        return None\n",
    "    \n",
    "    rate =  (int(sc1) - int(sc0)) / days\n",
    "#     print(rate)\n",
    "    return rate"
   ]
  },
  {
   "cell_type": "code",
   "execution_count": 69,
   "metadata": {
    "scrolled": false
   },
   "outputs": [
    {
     "data": {
      "text/plain": [
       "FACILITYID\n",
       "1000-1000M    -0.002894\n",
       "1000M-1008          NaN\n",
       "1004-946      -0.003315\n",
       "10043-10042         NaN\n",
       "10044-10043         NaN\n",
       "                 ...   \n",
       "M401-17621    -0.000508\n",
       "NS968-14335         NaN\n",
       "TCM19-11468         NaN\n",
       "TCM52-TCM22         NaN\n",
       "TCM78-1015          NaN\n",
       "Length: 5071, dtype: float64"
      ]
     },
     "execution_count": 69,
     "metadata": {},
     "output_type": "execute_result"
    }
   ],
   "source": [
    "rate = df.groupby(by='FACILITYID').apply(agg_func)\n",
    "rate"
   ]
  },
  {
   "cell_type": "code",
   "execution_count": 70,
   "metadata": {},
   "outputs": [
    {
     "data": {
      "text/plain": [
       "5071"
      ]
     },
     "execution_count": 70,
     "metadata": {},
     "output_type": "execute_result"
    }
   ],
   "source": [
    "len(rate)"
   ]
  },
  {
   "cell_type": "code",
   "execution_count": 71,
   "metadata": {},
   "outputs": [
    {
     "data": {
      "text/plain": [
       "1284"
      ]
     },
     "execution_count": 71,
     "metadata": {},
     "output_type": "execute_result"
    }
   ],
   "source": [
    "sum (rate < 0)"
   ]
  },
  {
   "cell_type": "code",
   "execution_count": 72,
   "metadata": {},
   "outputs": [
    {
     "data": {
      "text/plain": [
       "(1284, 2)"
      ]
     },
     "execution_count": 72,
     "metadata": {},
     "output_type": "execute_result"
    }
   ],
   "source": [
    "df_rate = pd.DataFrame()\n",
    "df_rate['FACILITYID'] = rate.index\n",
    "df_rate['rate'] = rate.values\n",
    "\n",
    "df_rate.dropna(inplace=True)\n",
    "df_rate.shape"
   ]
  },
  {
   "cell_type": "markdown",
   "metadata": {},
   "source": [
    "I'm trying to get more data."
   ]
  },
  {
   "cell_type": "markdown",
   "metadata": {},
   "source": [
    "### 8. It is time to combine GIS table attributes to Workorder table"
   ]
  },
  {
   "cell_type": "code",
   "execution_count": 73,
   "metadata": {
    "id": "EMiwOhLApxqi"
   },
   "outputs": [],
   "source": [
    "#Read the data from GIS features\n",
    "df_GIS= pd.read_excel('ssGravityMain-GIS_Attributes.xlsx')"
   ]
  },
  {
   "cell_type": "code",
   "execution_count": 74,
   "metadata": {
    "colab": {
     "base_uri": "https://localhost:8080/",
     "height": 560
    },
    "id": "guGE4eesqLht",
    "outputId": "20e87e86-7a8d-4943-d813-fd6596f4b072"
   },
   "outputs": [
    {
     "data": {
      "text/html": [
       "<div>\n",
       "<style scoped>\n",
       "    .dataframe tbody tr th:only-of-type {\n",
       "        vertical-align: middle;\n",
       "    }\n",
       "\n",
       "    .dataframe tbody tr th {\n",
       "        vertical-align: top;\n",
       "    }\n",
       "\n",
       "    .dataframe thead th {\n",
       "        text-align: right;\n",
       "    }\n",
       "</style>\n",
       "<table border=\"1\" class=\"dataframe\">\n",
       "  <thead>\n",
       "    <tr style=\"text-align: right;\">\n",
       "      <th></th>\n",
       "      <th>0</th>\n",
       "      <th>1</th>\n",
       "      <th>2</th>\n",
       "      <th>3</th>\n",
       "      <th>4</th>\n",
       "    </tr>\n",
       "  </thead>\n",
       "  <tbody>\n",
       "    <tr>\n",
       "      <th>FACILITYID</th>\n",
       "      <td>42453-42452</td>\n",
       "      <td>42458-42457</td>\n",
       "      <td>42457-42452</td>\n",
       "      <td>42452-42451</td>\n",
       "      <td>42451-42450</td>\n",
       "    </tr>\n",
       "    <tr>\n",
       "      <th>TYPE</th>\n",
       "      <td>COLLECTOR</td>\n",
       "      <td>COLLECTOR</td>\n",
       "      <td>COLLECTOR</td>\n",
       "      <td>COLLECTOR</td>\n",
       "      <td>COLLECTOR</td>\n",
       "    </tr>\n",
       "    <tr>\n",
       "      <th>SEWER_SERV</th>\n",
       "      <td>83-94-00-00</td>\n",
       "      <td>83-94-00-00</td>\n",
       "      <td>83-94-00-00</td>\n",
       "      <td>83-94-00-00</td>\n",
       "      <td>83-94-00-00</td>\n",
       "    </tr>\n",
       "    <tr>\n",
       "      <th>PIPE_SIZE</th>\n",
       "      <td>8</td>\n",
       "      <td>8</td>\n",
       "      <td>8</td>\n",
       "      <td>8</td>\n",
       "      <td>8</td>\n",
       "    </tr>\n",
       "    <tr>\n",
       "      <th>PIPE_MATER</th>\n",
       "      <td>UNKNOWN</td>\n",
       "      <td>ASBESTOS CEMENT</td>\n",
       "      <td>ASBESTOS CEMENT</td>\n",
       "      <td>UNKNOWN</td>\n",
       "      <td>UNKNOWN</td>\n",
       "    </tr>\n",
       "    <tr>\n",
       "      <th>SLOPE</th>\n",
       "      <td>1.7</td>\n",
       "      <td>0.4</td>\n",
       "      <td>0.4</td>\n",
       "      <td>0.4</td>\n",
       "      <td>0.4</td>\n",
       "    </tr>\n",
       "    <tr>\n",
       "      <th>DESIGN_LEN</th>\n",
       "      <td>70.3</td>\n",
       "      <td>71.3</td>\n",
       "      <td>139.1</td>\n",
       "      <td>335.8</td>\n",
       "      <td>387.7</td>\n",
       "    </tr>\n",
       "    <tr>\n",
       "      <th>LENGTH</th>\n",
       "      <td>70.33</td>\n",
       "      <td>71.3</td>\n",
       "      <td>139.18</td>\n",
       "      <td>335.83</td>\n",
       "      <td>387.79</td>\n",
       "    </tr>\n",
       "    <tr>\n",
       "      <th>UPSTREAM_I</th>\n",
       "      <td>688.36</td>\n",
       "      <td>688.1</td>\n",
       "      <td>687.72</td>\n",
       "      <td>687.07</td>\n",
       "      <td>685.63</td>\n",
       "    </tr>\n",
       "    <tr>\n",
       "      <th>DOWNSTREAM</th>\n",
       "      <td>687.17</td>\n",
       "      <td>687.82</td>\n",
       "      <td>687.17</td>\n",
       "      <td>685.73</td>\n",
       "      <td>684.03</td>\n",
       "    </tr>\n",
       "    <tr>\n",
       "      <th>LINING_TYP</th>\n",
       "      <td>NONE</td>\n",
       "      <td>NONE</td>\n",
       "      <td>NONE</td>\n",
       "      <td>NONE</td>\n",
       "      <td>NONE</td>\n",
       "    </tr>\n",
       "    <tr>\n",
       "      <th>STORM_CONC</th>\n",
       "      <td>NO</td>\n",
       "      <td>NO</td>\n",
       "      <td>NO</td>\n",
       "      <td>NO</td>\n",
       "      <td>NO</td>\n",
       "    </tr>\n",
       "    <tr>\n",
       "      <th>COORDINATE</th>\n",
       "      <td>DIGITIZING</td>\n",
       "      <td>DIGITIZING</td>\n",
       "      <td>DIGITIZING</td>\n",
       "      <td>DIGITIZING</td>\n",
       "      <td>DIGITIZING</td>\n",
       "    </tr>\n",
       "    <tr>\n",
       "      <th>LIFECYCLE_</th>\n",
       "      <td>ACTIVE</td>\n",
       "      <td>ACTIVE</td>\n",
       "      <td>ACTIVE</td>\n",
       "      <td>ACTIVE</td>\n",
       "      <td>ACTIVE</td>\n",
       "    </tr>\n",
       "    <tr>\n",
       "      <th>LOCATION</th>\n",
       "      <td>NaN</td>\n",
       "      <td>NaN</td>\n",
       "      <td>NaN</td>\n",
       "      <td>NaN</td>\n",
       "      <td>NaN</td>\n",
       "    </tr>\n",
       "    <tr>\n",
       "      <th>OWNED_BY</th>\n",
       "      <td>COUNTY</td>\n",
       "      <td>COUNTY</td>\n",
       "      <td>COUNTY</td>\n",
       "      <td>COUNTY</td>\n",
       "      <td>COUNTY</td>\n",
       "    </tr>\n",
       "    <tr>\n",
       "      <th>MAINTAINED</th>\n",
       "      <td>COUNTY</td>\n",
       "      <td>COUNTY</td>\n",
       "      <td>COUNTY</td>\n",
       "      <td>COUNTY</td>\n",
       "      <td>COUNTY</td>\n",
       "    </tr>\n",
       "    <tr>\n",
       "      <th>RESPONSIBL</th>\n",
       "      <td>DEPARTMENT OF PUBLIC WORKS</td>\n",
       "      <td>DEPARTMENT OF PUBLIC WORKS</td>\n",
       "      <td>DEPARTMENT OF PUBLIC WORKS</td>\n",
       "      <td>DEPARTMENT OF PUBLIC WORKS</td>\n",
       "      <td>DEPARTMENT OF PUBLIC WORKS</td>\n",
       "    </tr>\n",
       "    <tr>\n",
       "      <th>CONDITION</th>\n",
       "      <td>0</td>\n",
       "      <td>0</td>\n",
       "      <td>0</td>\n",
       "      <td>0</td>\n",
       "      <td>0</td>\n",
       "    </tr>\n",
       "    <tr>\n",
       "      <th>CONDITION_</th>\n",
       "      <td>NaN</td>\n",
       "      <td>NaN</td>\n",
       "      <td>NaN</td>\n",
       "      <td>NaN</td>\n",
       "      <td>NaN</td>\n",
       "    </tr>\n",
       "    <tr>\n",
       "      <th>INSTALL_DA</th>\n",
       "      <td>1970-01-01 00:00:00</td>\n",
       "      <td>1970-01-01 00:00:00</td>\n",
       "      <td>1970-01-01 00:00:00</td>\n",
       "      <td>1970-01-01 00:00:00</td>\n",
       "      <td>1970-01-01 00:00:00</td>\n",
       "    </tr>\n",
       "    <tr>\n",
       "      <th>WARRANTY_D</th>\n",
       "      <td>NaN</td>\n",
       "      <td>NaN</td>\n",
       "      <td>NaN</td>\n",
       "      <td>NaN</td>\n",
       "      <td>NaN</td>\n",
       "    </tr>\n",
       "    <tr>\n",
       "      <th>REHABILITA</th>\n",
       "      <td>NaT</td>\n",
       "      <td>NaT</td>\n",
       "      <td>NaT</td>\n",
       "      <td>NaT</td>\n",
       "      <td>NaT</td>\n",
       "    </tr>\n",
       "    <tr>\n",
       "      <th>REHABILI_1</th>\n",
       "      <td>NaN</td>\n",
       "      <td>NaN</td>\n",
       "      <td>NaN</td>\n",
       "      <td>NaN</td>\n",
       "      <td>NaN</td>\n",
       "    </tr>\n",
       "    <tr>\n",
       "      <th>NOTES</th>\n",
       "      <td>NaN</td>\n",
       "      <td>NaN</td>\n",
       "      <td>NaN</td>\n",
       "      <td>NaN</td>\n",
       "      <td>NaN</td>\n",
       "    </tr>\n",
       "    <tr>\n",
       "      <th>CREATED_US</th>\n",
       "      <td>stevesmith</td>\n",
       "      <td>stevesmith</td>\n",
       "      <td>stevesmith</td>\n",
       "      <td>stevesmith</td>\n",
       "      <td>stevesmith</td>\n",
       "    </tr>\n",
       "    <tr>\n",
       "      <th>CREATED_DA</th>\n",
       "      <td>2015-09-03 00:00:00</td>\n",
       "      <td>2015-09-03 00:00:00</td>\n",
       "      <td>2015-09-03 00:00:00</td>\n",
       "      <td>2015-09-03 00:00:00</td>\n",
       "      <td>2015-09-03 00:00:00</td>\n",
       "    </tr>\n",
       "    <tr>\n",
       "      <th>LAST_EDITE</th>\n",
       "      <td>stevesmith</td>\n",
       "      <td>stevesmith</td>\n",
       "      <td>stevesmith</td>\n",
       "      <td>stevesmith</td>\n",
       "      <td>stevesmith</td>\n",
       "    </tr>\n",
       "    <tr>\n",
       "      <th>LAST_EDI_1</th>\n",
       "      <td>2015-09-03 00:00:00</td>\n",
       "      <td>2015-09-03 00:00:00</td>\n",
       "      <td>2015-09-03 00:00:00</td>\n",
       "      <td>2015-09-03 00:00:00</td>\n",
       "      <td>2015-09-03 00:00:00</td>\n",
       "    </tr>\n",
       "    <tr>\n",
       "      <th>GLOBALID</th>\n",
       "      <td>{99358FA6-1847-431F-869A-12341DB1F093}</td>\n",
       "      <td>{3F356ABF-33D7-463B-8502-4A5C4C352B0C}</td>\n",
       "      <td>{98C04947-F754-487E-8794-A29FC72B13BE}</td>\n",
       "      <td>{25338C76-0A56-4E0F-8493-93E91B0EA770}</td>\n",
       "      <td>{6D977270-4965-41DF-A19C-CDB5924BD2F9}</td>\n",
       "    </tr>\n",
       "    <tr>\n",
       "      <th>ENABLED</th>\n",
       "      <td>1</td>\n",
       "      <td>1</td>\n",
       "      <td>1</td>\n",
       "      <td>1</td>\n",
       "      <td>1</td>\n",
       "    </tr>\n",
       "    <tr>\n",
       "      <th>JETTER</th>\n",
       "      <td>NaN</td>\n",
       "      <td>NaN</td>\n",
       "      <td>NaN</td>\n",
       "      <td>NaN</td>\n",
       "      <td>NaN</td>\n",
       "    </tr>\n",
       "    <tr>\n",
       "      <th>SHAPE_LEN</th>\n",
       "      <td>70.32951</td>\n",
       "      <td>71.302674</td>\n",
       "      <td>139.176544</td>\n",
       "      <td>335.831233</td>\n",
       "      <td>387.790553</td>\n",
       "    </tr>\n",
       "  </tbody>\n",
       "</table>\n",
       "</div>"
      ],
      "text/plain": [
       "                                                 0  \\\n",
       "FACILITYID                             42453-42452   \n",
       "TYPE                                     COLLECTOR   \n",
       "SEWER_SERV                             83-94-00-00   \n",
       "PIPE_SIZE                                        8   \n",
       "PIPE_MATER                                 UNKNOWN   \n",
       "SLOPE                                          1.7   \n",
       "DESIGN_LEN                                    70.3   \n",
       "LENGTH                                       70.33   \n",
       "UPSTREAM_I                                  688.36   \n",
       "DOWNSTREAM                                  687.17   \n",
       "LINING_TYP                                    NONE   \n",
       "STORM_CONC                                      NO   \n",
       "COORDINATE                              DIGITIZING   \n",
       "LIFECYCLE_                                  ACTIVE   \n",
       "LOCATION                                       NaN   \n",
       "OWNED_BY                                    COUNTY   \n",
       "MAINTAINED                                  COUNTY   \n",
       "RESPONSIBL              DEPARTMENT OF PUBLIC WORKS   \n",
       "CONDITION                                        0   \n",
       "CONDITION_                                     NaN   \n",
       "INSTALL_DA                     1970-01-01 00:00:00   \n",
       "WARRANTY_D                                     NaN   \n",
       "REHABILITA                                     NaT   \n",
       "REHABILI_1                                     NaN   \n",
       "NOTES                                          NaN   \n",
       "CREATED_US                              stevesmith   \n",
       "CREATED_DA                     2015-09-03 00:00:00   \n",
       "LAST_EDITE                              stevesmith   \n",
       "LAST_EDI_1                     2015-09-03 00:00:00   \n",
       "GLOBALID    {99358FA6-1847-431F-869A-12341DB1F093}   \n",
       "ENABLED                                          1   \n",
       "JETTER                                         NaN   \n",
       "SHAPE_LEN                                 70.32951   \n",
       "\n",
       "                                                 1  \\\n",
       "FACILITYID                             42458-42457   \n",
       "TYPE                                     COLLECTOR   \n",
       "SEWER_SERV                             83-94-00-00   \n",
       "PIPE_SIZE                                        8   \n",
       "PIPE_MATER                         ASBESTOS CEMENT   \n",
       "SLOPE                                          0.4   \n",
       "DESIGN_LEN                                    71.3   \n",
       "LENGTH                                        71.3   \n",
       "UPSTREAM_I                                   688.1   \n",
       "DOWNSTREAM                                  687.82   \n",
       "LINING_TYP                                    NONE   \n",
       "STORM_CONC                                      NO   \n",
       "COORDINATE                              DIGITIZING   \n",
       "LIFECYCLE_                                  ACTIVE   \n",
       "LOCATION                                       NaN   \n",
       "OWNED_BY                                    COUNTY   \n",
       "MAINTAINED                                  COUNTY   \n",
       "RESPONSIBL              DEPARTMENT OF PUBLIC WORKS   \n",
       "CONDITION                                        0   \n",
       "CONDITION_                                     NaN   \n",
       "INSTALL_DA                     1970-01-01 00:00:00   \n",
       "WARRANTY_D                                     NaN   \n",
       "REHABILITA                                     NaT   \n",
       "REHABILI_1                                     NaN   \n",
       "NOTES                                          NaN   \n",
       "CREATED_US                              stevesmith   \n",
       "CREATED_DA                     2015-09-03 00:00:00   \n",
       "LAST_EDITE                              stevesmith   \n",
       "LAST_EDI_1                     2015-09-03 00:00:00   \n",
       "GLOBALID    {3F356ABF-33D7-463B-8502-4A5C4C352B0C}   \n",
       "ENABLED                                          1   \n",
       "JETTER                                         NaN   \n",
       "SHAPE_LEN                                71.302674   \n",
       "\n",
       "                                                 2  \\\n",
       "FACILITYID                             42457-42452   \n",
       "TYPE                                     COLLECTOR   \n",
       "SEWER_SERV                             83-94-00-00   \n",
       "PIPE_SIZE                                        8   \n",
       "PIPE_MATER                         ASBESTOS CEMENT   \n",
       "SLOPE                                          0.4   \n",
       "DESIGN_LEN                                   139.1   \n",
       "LENGTH                                      139.18   \n",
       "UPSTREAM_I                                  687.72   \n",
       "DOWNSTREAM                                  687.17   \n",
       "LINING_TYP                                    NONE   \n",
       "STORM_CONC                                      NO   \n",
       "COORDINATE                              DIGITIZING   \n",
       "LIFECYCLE_                                  ACTIVE   \n",
       "LOCATION                                       NaN   \n",
       "OWNED_BY                                    COUNTY   \n",
       "MAINTAINED                                  COUNTY   \n",
       "RESPONSIBL              DEPARTMENT OF PUBLIC WORKS   \n",
       "CONDITION                                        0   \n",
       "CONDITION_                                     NaN   \n",
       "INSTALL_DA                     1970-01-01 00:00:00   \n",
       "WARRANTY_D                                     NaN   \n",
       "REHABILITA                                     NaT   \n",
       "REHABILI_1                                     NaN   \n",
       "NOTES                                          NaN   \n",
       "CREATED_US                              stevesmith   \n",
       "CREATED_DA                     2015-09-03 00:00:00   \n",
       "LAST_EDITE                              stevesmith   \n",
       "LAST_EDI_1                     2015-09-03 00:00:00   \n",
       "GLOBALID    {98C04947-F754-487E-8794-A29FC72B13BE}   \n",
       "ENABLED                                          1   \n",
       "JETTER                                         NaN   \n",
       "SHAPE_LEN                               139.176544   \n",
       "\n",
       "                                                 3  \\\n",
       "FACILITYID                             42452-42451   \n",
       "TYPE                                     COLLECTOR   \n",
       "SEWER_SERV                             83-94-00-00   \n",
       "PIPE_SIZE                                        8   \n",
       "PIPE_MATER                                 UNKNOWN   \n",
       "SLOPE                                          0.4   \n",
       "DESIGN_LEN                                   335.8   \n",
       "LENGTH                                      335.83   \n",
       "UPSTREAM_I                                  687.07   \n",
       "DOWNSTREAM                                  685.73   \n",
       "LINING_TYP                                    NONE   \n",
       "STORM_CONC                                      NO   \n",
       "COORDINATE                              DIGITIZING   \n",
       "LIFECYCLE_                                  ACTIVE   \n",
       "LOCATION                                       NaN   \n",
       "OWNED_BY                                    COUNTY   \n",
       "MAINTAINED                                  COUNTY   \n",
       "RESPONSIBL              DEPARTMENT OF PUBLIC WORKS   \n",
       "CONDITION                                        0   \n",
       "CONDITION_                                     NaN   \n",
       "INSTALL_DA                     1970-01-01 00:00:00   \n",
       "WARRANTY_D                                     NaN   \n",
       "REHABILITA                                     NaT   \n",
       "REHABILI_1                                     NaN   \n",
       "NOTES                                          NaN   \n",
       "CREATED_US                              stevesmith   \n",
       "CREATED_DA                     2015-09-03 00:00:00   \n",
       "LAST_EDITE                              stevesmith   \n",
       "LAST_EDI_1                     2015-09-03 00:00:00   \n",
       "GLOBALID    {25338C76-0A56-4E0F-8493-93E91B0EA770}   \n",
       "ENABLED                                          1   \n",
       "JETTER                                         NaN   \n",
       "SHAPE_LEN                               335.831233   \n",
       "\n",
       "                                                 4  \n",
       "FACILITYID                             42451-42450  \n",
       "TYPE                                     COLLECTOR  \n",
       "SEWER_SERV                             83-94-00-00  \n",
       "PIPE_SIZE                                        8  \n",
       "PIPE_MATER                                 UNKNOWN  \n",
       "SLOPE                                          0.4  \n",
       "DESIGN_LEN                                   387.7  \n",
       "LENGTH                                      387.79  \n",
       "UPSTREAM_I                                  685.63  \n",
       "DOWNSTREAM                                  684.03  \n",
       "LINING_TYP                                    NONE  \n",
       "STORM_CONC                                      NO  \n",
       "COORDINATE                              DIGITIZING  \n",
       "LIFECYCLE_                                  ACTIVE  \n",
       "LOCATION                                       NaN  \n",
       "OWNED_BY                                    COUNTY  \n",
       "MAINTAINED                                  COUNTY  \n",
       "RESPONSIBL              DEPARTMENT OF PUBLIC WORKS  \n",
       "CONDITION                                        0  \n",
       "CONDITION_                                     NaN  \n",
       "INSTALL_DA                     1970-01-01 00:00:00  \n",
       "WARRANTY_D                                     NaN  \n",
       "REHABILITA                                     NaT  \n",
       "REHABILI_1                                     NaN  \n",
       "NOTES                                          NaN  \n",
       "CREATED_US                              stevesmith  \n",
       "CREATED_DA                     2015-09-03 00:00:00  \n",
       "LAST_EDITE                              stevesmith  \n",
       "LAST_EDI_1                     2015-09-03 00:00:00  \n",
       "GLOBALID    {6D977270-4965-41DF-A19C-CDB5924BD2F9}  \n",
       "ENABLED                                          1  \n",
       "JETTER                                         NaN  \n",
       "SHAPE_LEN                               387.790553  "
      ]
     },
     "execution_count": 74,
     "metadata": {},
     "output_type": "execute_result"
    }
   ],
   "source": [
    "df_GIS.head().T"
   ]
  },
  {
   "cell_type": "code",
   "execution_count": 75,
   "metadata": {},
   "outputs": [],
   "source": [
    "#Select important columns from GIS\n",
    "GIS_columns= [\n",
    "    'FACILITYID',\n",
    "    'TYPE',\n",
    "    'LINING_TYP',\n",
    "    'PIPE_SIZE',\n",
    "    'PIPE_MATER',\n",
    "    'SLOPE',\n",
    "    'LENGTH',\n",
    "    'INSTALL_DA',\n",
    "    'UPSTREAM_I',\n",
    "    'DOWNSTREAM'\n",
    "]\n",
    "df_GIS = df_GIS[GIS_columns]"
   ]
  },
  {
   "cell_type": "code",
   "execution_count": 76,
   "metadata": {},
   "outputs": [
    {
     "data": {
      "text/html": [
       "<div>\n",
       "<style scoped>\n",
       "    .dataframe tbody tr th:only-of-type {\n",
       "        vertical-align: middle;\n",
       "    }\n",
       "\n",
       "    .dataframe tbody tr th {\n",
       "        vertical-align: top;\n",
       "    }\n",
       "\n",
       "    .dataframe thead th {\n",
       "        text-align: right;\n",
       "    }\n",
       "</style>\n",
       "<table border=\"1\" class=\"dataframe\">\n",
       "  <thead>\n",
       "    <tr style=\"text-align: right;\">\n",
       "      <th></th>\n",
       "      <th>FACILITYID</th>\n",
       "      <th>TYPE</th>\n",
       "      <th>LINING_TYP</th>\n",
       "      <th>PIPE_SIZE</th>\n",
       "      <th>PIPE_MATER</th>\n",
       "      <th>SLOPE</th>\n",
       "      <th>LENGTH</th>\n",
       "      <th>INSTALL_DA</th>\n",
       "      <th>UPSTREAM_I</th>\n",
       "      <th>DOWNSTREAM</th>\n",
       "    </tr>\n",
       "  </thead>\n",
       "  <tbody>\n",
       "    <tr>\n",
       "      <th>0</th>\n",
       "      <td>42453-42452</td>\n",
       "      <td>COLLECTOR</td>\n",
       "      <td>NONE</td>\n",
       "      <td>8</td>\n",
       "      <td>UNKNOWN</td>\n",
       "      <td>1.7</td>\n",
       "      <td>70.33</td>\n",
       "      <td>1970-01-01</td>\n",
       "      <td>688.36</td>\n",
       "      <td>687.17</td>\n",
       "    </tr>\n",
       "    <tr>\n",
       "      <th>1</th>\n",
       "      <td>42458-42457</td>\n",
       "      <td>COLLECTOR</td>\n",
       "      <td>NONE</td>\n",
       "      <td>8</td>\n",
       "      <td>ASBESTOS CEMENT</td>\n",
       "      <td>0.4</td>\n",
       "      <td>71.30</td>\n",
       "      <td>1970-01-01</td>\n",
       "      <td>688.10</td>\n",
       "      <td>687.82</td>\n",
       "    </tr>\n",
       "    <tr>\n",
       "      <th>2</th>\n",
       "      <td>42457-42452</td>\n",
       "      <td>COLLECTOR</td>\n",
       "      <td>NONE</td>\n",
       "      <td>8</td>\n",
       "      <td>ASBESTOS CEMENT</td>\n",
       "      <td>0.4</td>\n",
       "      <td>139.18</td>\n",
       "      <td>1970-01-01</td>\n",
       "      <td>687.72</td>\n",
       "      <td>687.17</td>\n",
       "    </tr>\n",
       "    <tr>\n",
       "      <th>3</th>\n",
       "      <td>42452-42451</td>\n",
       "      <td>COLLECTOR</td>\n",
       "      <td>NONE</td>\n",
       "      <td>8</td>\n",
       "      <td>UNKNOWN</td>\n",
       "      <td>0.4</td>\n",
       "      <td>335.83</td>\n",
       "      <td>1970-01-01</td>\n",
       "      <td>687.07</td>\n",
       "      <td>685.73</td>\n",
       "    </tr>\n",
       "    <tr>\n",
       "      <th>4</th>\n",
       "      <td>42451-42450</td>\n",
       "      <td>COLLECTOR</td>\n",
       "      <td>NONE</td>\n",
       "      <td>8</td>\n",
       "      <td>UNKNOWN</td>\n",
       "      <td>0.4</td>\n",
       "      <td>387.79</td>\n",
       "      <td>1970-01-01</td>\n",
       "      <td>685.63</td>\n",
       "      <td>684.03</td>\n",
       "    </tr>\n",
       "  </tbody>\n",
       "</table>\n",
       "</div>"
      ],
      "text/plain": [
       "    FACILITYID       TYPE LINING_TYP  PIPE_SIZE       PIPE_MATER  SLOPE  \\\n",
       "0  42453-42452  COLLECTOR       NONE          8          UNKNOWN    1.7   \n",
       "1  42458-42457  COLLECTOR       NONE          8  ASBESTOS CEMENT    0.4   \n",
       "2  42457-42452  COLLECTOR       NONE          8  ASBESTOS CEMENT    0.4   \n",
       "3  42452-42451  COLLECTOR       NONE          8          UNKNOWN    0.4   \n",
       "4  42451-42450  COLLECTOR       NONE          8          UNKNOWN    0.4   \n",
       "\n",
       "   LENGTH INSTALL_DA  UPSTREAM_I  DOWNSTREAM  \n",
       "0   70.33 1970-01-01      688.36      687.17  \n",
       "1   71.30 1970-01-01      688.10      687.82  \n",
       "2  139.18 1970-01-01      687.72      687.17  \n",
       "3  335.83 1970-01-01      687.07      685.73  \n",
       "4  387.79 1970-01-01      685.63      684.03  "
      ]
     },
     "execution_count": 76,
     "metadata": {},
     "output_type": "execute_result"
    }
   ],
   "source": [
    "df_GIS.head()"
   ]
  },
  {
   "cell_type": "code",
   "execution_count": 77,
   "metadata": {},
   "outputs": [
    {
     "name": "stdout",
     "output_type": "stream",
     "text": [
      "<class 'pandas.core.frame.DataFrame'>\n",
      "RangeIndex: 62728 entries, 0 to 62727\n",
      "Data columns (total 10 columns):\n",
      " #   Column      Non-Null Count  Dtype         \n",
      "---  ------      --------------  -----         \n",
      " 0   FACILITYID  62728 non-null  object        \n",
      " 1   TYPE        62728 non-null  object        \n",
      " 2   LINING_TYP  62663 non-null  object        \n",
      " 3   PIPE_SIZE   62728 non-null  int64         \n",
      " 4   PIPE_MATER  62371 non-null  object        \n",
      " 5   SLOPE       62728 non-null  float64       \n",
      " 6   LENGTH      62728 non-null  float64       \n",
      " 7   INSTALL_DA  61600 non-null  datetime64[ns]\n",
      " 8   UPSTREAM_I  62728 non-null  float64       \n",
      " 9   DOWNSTREAM  62728 non-null  float64       \n",
      "dtypes: datetime64[ns](1), float64(4), int64(1), object(4)\n",
      "memory usage: 4.8+ MB\n"
     ]
    }
   ],
   "source": [
    "df_GIS.info()"
   ]
  },
  {
   "cell_type": "code",
   "execution_count": 78,
   "metadata": {},
   "outputs": [],
   "source": [
    "#Combining two data frame \n",
    "df_merged = pd.merge(df_rate, df_GIS,  how='left', left_on=['FACILITYID'],right_on=['FACILITYID'])"
   ]
  },
  {
   "cell_type": "code",
   "execution_count": 79,
   "metadata": {},
   "outputs": [],
   "source": [
    "df_merged.drop('FACILITYID', axis=1, inplace=True)"
   ]
  },
  {
   "cell_type": "code",
   "execution_count": 80,
   "metadata": {},
   "outputs": [
    {
     "data": {
      "text/html": [
       "<div>\n",
       "<style scoped>\n",
       "    .dataframe tbody tr th:only-of-type {\n",
       "        vertical-align: middle;\n",
       "    }\n",
       "\n",
       "    .dataframe tbody tr th {\n",
       "        vertical-align: top;\n",
       "    }\n",
       "\n",
       "    .dataframe thead th {\n",
       "        text-align: right;\n",
       "    }\n",
       "</style>\n",
       "<table border=\"1\" class=\"dataframe\">\n",
       "  <thead>\n",
       "    <tr style=\"text-align: right;\">\n",
       "      <th></th>\n",
       "      <th>rate</th>\n",
       "      <th>TYPE</th>\n",
       "      <th>LINING_TYP</th>\n",
       "      <th>PIPE_SIZE</th>\n",
       "      <th>PIPE_MATER</th>\n",
       "      <th>SLOPE</th>\n",
       "      <th>LENGTH</th>\n",
       "      <th>INSTALL_DA</th>\n",
       "      <th>UPSTREAM_I</th>\n",
       "      <th>DOWNSTREAM</th>\n",
       "    </tr>\n",
       "  </thead>\n",
       "  <tbody>\n",
       "    <tr>\n",
       "      <th>0</th>\n",
       "      <td>-0.002894</td>\n",
       "      <td>COLLECTOR</td>\n",
       "      <td>NONE</td>\n",
       "      <td>12.0</td>\n",
       "      <td>VITRIFIED CLAY PIPE</td>\n",
       "      <td>0.49</td>\n",
       "      <td>400.69</td>\n",
       "      <td>1926-01-01</td>\n",
       "      <td>464.26</td>\n",
       "      <td>462.33</td>\n",
       "    </tr>\n",
       "    <tr>\n",
       "      <th>1</th>\n",
       "      <td>-0.003315</td>\n",
       "      <td>COLLECTOR</td>\n",
       "      <td>NONE</td>\n",
       "      <td>8.0</td>\n",
       "      <td>VITRIFIED CLAY PIPE</td>\n",
       "      <td>2.50</td>\n",
       "      <td>374.65</td>\n",
       "      <td>1926-01-01</td>\n",
       "      <td>478.42</td>\n",
       "      <td>469.26</td>\n",
       "    </tr>\n",
       "    <tr>\n",
       "      <th>2</th>\n",
       "      <td>-0.004082</td>\n",
       "      <td>COLLECTOR</td>\n",
       "      <td>NONE</td>\n",
       "      <td>8.0</td>\n",
       "      <td>VITRIFIED CLAY PIPE</td>\n",
       "      <td>2.00</td>\n",
       "      <td>301.28</td>\n",
       "      <td>1926-01-01</td>\n",
       "      <td>390.86</td>\n",
       "      <td>384.75</td>\n",
       "    </tr>\n",
       "    <tr>\n",
       "      <th>3</th>\n",
       "      <td>-0.005780</td>\n",
       "      <td>COLLECTOR</td>\n",
       "      <td>NONE</td>\n",
       "      <td>15.0</td>\n",
       "      <td>VITRIFIED CLAY PIPE</td>\n",
       "      <td>0.40</td>\n",
       "      <td>51.09</td>\n",
       "      <td>1950-01-01</td>\n",
       "      <td>10.14</td>\n",
       "      <td>9.93</td>\n",
       "    </tr>\n",
       "    <tr>\n",
       "      <th>4</th>\n",
       "      <td>-0.002833</td>\n",
       "      <td>COLLECTOR</td>\n",
       "      <td>NONE</td>\n",
       "      <td>8.0</td>\n",
       "      <td>VITRIFIED CLAY PIPE</td>\n",
       "      <td>0.60</td>\n",
       "      <td>314.27</td>\n",
       "      <td>1950-01-01</td>\n",
       "      <td>17.49</td>\n",
       "      <td>15.65</td>\n",
       "    </tr>\n",
       "  </tbody>\n",
       "</table>\n",
       "</div>"
      ],
      "text/plain": [
       "       rate       TYPE LINING_TYP  PIPE_SIZE           PIPE_MATER  SLOPE  \\\n",
       "0 -0.002894  COLLECTOR       NONE       12.0  VITRIFIED CLAY PIPE   0.49   \n",
       "1 -0.003315  COLLECTOR       NONE        8.0  VITRIFIED CLAY PIPE   2.50   \n",
       "2 -0.004082  COLLECTOR       NONE        8.0  VITRIFIED CLAY PIPE   2.00   \n",
       "3 -0.005780  COLLECTOR       NONE       15.0  VITRIFIED CLAY PIPE   0.40   \n",
       "4 -0.002833  COLLECTOR       NONE        8.0  VITRIFIED CLAY PIPE   0.60   \n",
       "\n",
       "   LENGTH INSTALL_DA  UPSTREAM_I  DOWNSTREAM  \n",
       "0  400.69 1926-01-01      464.26      462.33  \n",
       "1  374.65 1926-01-01      478.42      469.26  \n",
       "2  301.28 1926-01-01      390.86      384.75  \n",
       "3   51.09 1950-01-01       10.14        9.93  \n",
       "4  314.27 1950-01-01       17.49       15.65  "
      ]
     },
     "execution_count": 80,
     "metadata": {},
     "output_type": "execute_result"
    }
   ],
   "source": [
    "df_merged.head()"
   ]
  },
  {
   "cell_type": "code",
   "execution_count": 81,
   "metadata": {},
   "outputs": [
    {
     "name": "stdout",
     "output_type": "stream",
     "text": [
      "<class 'pandas.core.frame.DataFrame'>\n",
      "Int64Index: 1284 entries, 0 to 1283\n",
      "Data columns (total 10 columns):\n",
      " #   Column      Non-Null Count  Dtype         \n",
      "---  ------      --------------  -----         \n",
      " 0   rate        1284 non-null   float64       \n",
      " 1   TYPE        1280 non-null   object        \n",
      " 2   LINING_TYP  1280 non-null   object        \n",
      " 3   PIPE_SIZE   1280 non-null   float64       \n",
      " 4   PIPE_MATER  1280 non-null   object        \n",
      " 5   SLOPE       1280 non-null   float64       \n",
      " 6   LENGTH      1280 non-null   float64       \n",
      " 7   INSTALL_DA  1264 non-null   datetime64[ns]\n",
      " 8   UPSTREAM_I  1280 non-null   float64       \n",
      " 9   DOWNSTREAM  1280 non-null   float64       \n",
      "dtypes: datetime64[ns](1), float64(6), object(3)\n",
      "memory usage: 110.3+ KB\n"
     ]
    }
   ],
   "source": [
    "df_merged.info()"
   ]
  },
  {
   "cell_type": "code",
   "execution_count": 82,
   "metadata": {},
   "outputs": [],
   "source": [
    "# Converting datetime variable \n",
    "today = np.datetime64('today') \n",
    "\n",
    "def days_passed(d):\n",
    "    return ( today - d).days\n"
   ]
  },
  {
   "cell_type": "code",
   "execution_count": 83,
   "metadata": {},
   "outputs": [
    {
     "data": {
      "text/html": [
       "<div>\n",
       "<style scoped>\n",
       "    .dataframe tbody tr th:only-of-type {\n",
       "        vertical-align: middle;\n",
       "    }\n",
       "\n",
       "    .dataframe tbody tr th {\n",
       "        vertical-align: top;\n",
       "    }\n",
       "\n",
       "    .dataframe thead th {\n",
       "        text-align: right;\n",
       "    }\n",
       "</style>\n",
       "<table border=\"1\" class=\"dataframe\">\n",
       "  <thead>\n",
       "    <tr style=\"text-align: right;\">\n",
       "      <th></th>\n",
       "      <th>rate</th>\n",
       "      <th>TYPE</th>\n",
       "      <th>LINING_TYP</th>\n",
       "      <th>PIPE_SIZE</th>\n",
       "      <th>PIPE_MATER</th>\n",
       "      <th>SLOPE</th>\n",
       "      <th>LENGTH</th>\n",
       "      <th>UPSTREAM_I</th>\n",
       "      <th>DOWNSTREAM</th>\n",
       "      <th>time_since_install_da</th>\n",
       "    </tr>\n",
       "  </thead>\n",
       "  <tbody>\n",
       "    <tr>\n",
       "      <th>0</th>\n",
       "      <td>-0.002894</td>\n",
       "      <td>COLLECTOR</td>\n",
       "      <td>NONE</td>\n",
       "      <td>12.0</td>\n",
       "      <td>VITRIFIED CLAY PIPE</td>\n",
       "      <td>0.49</td>\n",
       "      <td>400.69</td>\n",
       "      <td>464.26</td>\n",
       "      <td>462.33</td>\n",
       "      <td>35692.0</td>\n",
       "    </tr>\n",
       "    <tr>\n",
       "      <th>1</th>\n",
       "      <td>-0.003315</td>\n",
       "      <td>COLLECTOR</td>\n",
       "      <td>NONE</td>\n",
       "      <td>8.0</td>\n",
       "      <td>VITRIFIED CLAY PIPE</td>\n",
       "      <td>2.50</td>\n",
       "      <td>374.65</td>\n",
       "      <td>478.42</td>\n",
       "      <td>469.26</td>\n",
       "      <td>35692.0</td>\n",
       "    </tr>\n",
       "    <tr>\n",
       "      <th>2</th>\n",
       "      <td>-0.004082</td>\n",
       "      <td>COLLECTOR</td>\n",
       "      <td>NONE</td>\n",
       "      <td>8.0</td>\n",
       "      <td>VITRIFIED CLAY PIPE</td>\n",
       "      <td>2.00</td>\n",
       "      <td>301.28</td>\n",
       "      <td>390.86</td>\n",
       "      <td>384.75</td>\n",
       "      <td>35692.0</td>\n",
       "    </tr>\n",
       "    <tr>\n",
       "      <th>3</th>\n",
       "      <td>-0.005780</td>\n",
       "      <td>COLLECTOR</td>\n",
       "      <td>NONE</td>\n",
       "      <td>15.0</td>\n",
       "      <td>VITRIFIED CLAY PIPE</td>\n",
       "      <td>0.40</td>\n",
       "      <td>51.09</td>\n",
       "      <td>10.14</td>\n",
       "      <td>9.93</td>\n",
       "      <td>26926.0</td>\n",
       "    </tr>\n",
       "    <tr>\n",
       "      <th>4</th>\n",
       "      <td>-0.002833</td>\n",
       "      <td>COLLECTOR</td>\n",
       "      <td>NONE</td>\n",
       "      <td>8.0</td>\n",
       "      <td>VITRIFIED CLAY PIPE</td>\n",
       "      <td>0.60</td>\n",
       "      <td>314.27</td>\n",
       "      <td>17.49</td>\n",
       "      <td>15.65</td>\n",
       "      <td>26926.0</td>\n",
       "    </tr>\n",
       "  </tbody>\n",
       "</table>\n",
       "</div>"
      ],
      "text/plain": [
       "       rate       TYPE LINING_TYP  PIPE_SIZE           PIPE_MATER  SLOPE  \\\n",
       "0 -0.002894  COLLECTOR       NONE       12.0  VITRIFIED CLAY PIPE   0.49   \n",
       "1 -0.003315  COLLECTOR       NONE        8.0  VITRIFIED CLAY PIPE   2.50   \n",
       "2 -0.004082  COLLECTOR       NONE        8.0  VITRIFIED CLAY PIPE   2.00   \n",
       "3 -0.005780  COLLECTOR       NONE       15.0  VITRIFIED CLAY PIPE   0.40   \n",
       "4 -0.002833  COLLECTOR       NONE        8.0  VITRIFIED CLAY PIPE   0.60   \n",
       "\n",
       "   LENGTH  UPSTREAM_I  DOWNSTREAM  time_since_install_da  \n",
       "0  400.69      464.26      462.33                35692.0  \n",
       "1  374.65      478.42      469.26                35692.0  \n",
       "2  301.28      390.86      384.75                35692.0  \n",
       "3   51.09       10.14        9.93                26926.0  \n",
       "4  314.27       17.49       15.65                26926.0  "
      ]
     },
     "execution_count": 83,
     "metadata": {},
     "output_type": "execute_result"
    }
   ],
   "source": [
    "df_merged['time_since_install_da'] = [days_passed(x) for x in df_merged['INSTALL_DA']]\n",
    "df_merged.drop('INSTALL_DA', axis=1, inplace=True)\n",
    "df_merged.head()"
   ]
  },
  {
   "cell_type": "code",
   "execution_count": 84,
   "metadata": {},
   "outputs": [
    {
     "name": "stdout",
     "output_type": "stream",
     "text": [
      "<class 'pandas.core.frame.DataFrame'>\n",
      "Int64Index: 1284 entries, 0 to 1283\n",
      "Data columns (total 10 columns):\n",
      " #   Column                 Non-Null Count  Dtype  \n",
      "---  ------                 --------------  -----  \n",
      " 0   rate                   1284 non-null   float64\n",
      " 1   TYPE                   1280 non-null   object \n",
      " 2   LINING_TYP             1280 non-null   object \n",
      " 3   PIPE_SIZE              1280 non-null   float64\n",
      " 4   PIPE_MATER             1280 non-null   object \n",
      " 5   SLOPE                  1280 non-null   float64\n",
      " 6   LENGTH                 1280 non-null   float64\n",
      " 7   UPSTREAM_I             1280 non-null   float64\n",
      " 8   DOWNSTREAM             1280 non-null   float64\n",
      " 9   time_since_install_da  1264 non-null   float64\n",
      "dtypes: float64(7), object(3)\n",
      "memory usage: 110.3+ KB\n"
     ]
    }
   ],
   "source": [
    "df_merged.info()\n"
   ]
  },
  {
   "cell_type": "code",
   "execution_count": 85,
   "metadata": {},
   "outputs": [
    {
     "data": {
      "text/plain": [
       "(1284, 10)"
      ]
     },
     "execution_count": 85,
     "metadata": {},
     "output_type": "execute_result"
    }
   ],
   "source": [
    "#check the number of rows and columns in the dataframe\n",
    "df_merged.shape"
   ]
  },
  {
   "cell_type": "markdown",
   "metadata": {},
   "source": [
    "Now, the data is ready for further analysis.\n"
   ]
  },
  {
   "cell_type": "markdown",
   "metadata": {},
   "source": [
    "### 11. Sanity check and handling Data Inconsistencies\n"
   ]
  },
  {
   "cell_type": "markdown",
   "metadata": {},
   "source": [
    "### Visualizations"
   ]
  },
  {
   "cell_type": "code",
   "execution_count": 86,
   "metadata": {},
   "outputs": [
    {
     "data": {
      "text/plain": [
       "<AxesSubplot:>"
      ]
     },
     "execution_count": 86,
     "metadata": {},
     "output_type": "execute_result"
    },
    {
     "data": {
      "image/png": "[encoded data removed]",
      "text/plain": [
       "<Figure size 432x288 with 1 Axes>"
      ]
     },
     "metadata": {
      "needs_background": "light"
     },
     "output_type": "display_data"
    }
   ],
   "source": [
    "df_merged.rate.hist()"
   ]
  },
  {
   "cell_type": "code",
   "execution_count": 87,
   "metadata": {},
   "outputs": [
    {
     "data": {
      "text/plain": [
       "<AxesSubplot:>"
      ]
     },
     "execution_count": 87,
     "metadata": {},
     "output_type": "execute_result"
    },
    {
     "data": {
      "image/png": "[encoded data removed]",
      "text/plain": [
       "<Figure size 432x288 with 1 Axes>"
      ]
     },
     "metadata": {
      "needs_background": "light"
     },
     "output_type": "display_data"
    }
   ],
   "source": [
    "#print(df_merged.rate.value_counts())\n",
    "df_merged.rate.hist(range=[-0.05 ,0])"
   ]
  },
  {
   "cell_type": "code",
   "execution_count": 88,
   "metadata": {},
   "outputs": [
    {
     "name": "stdout",
     "output_type": "stream",
     "text": [
      "COLLECTOR          1279\n",
      "INVERTED SIPHON       1\n",
      "Name: TYPE, dtype: int64\n"
     ]
    },
    {
     "data": {
      "text/plain": [
       "<AxesSubplot:>"
      ]
     },
     "execution_count": 88,
     "metadata": {},
     "output_type": "execute_result"
    },
    {
     "data": {
      "image/png": "[encoded data removed]",
      "text/plain": [
       "<Figure size 432x288 with 1 Axes>"
      ]
     },
     "metadata": {
      "needs_background": "light"
     },
     "output_type": "display_data"
    }
   ],
   "source": [
    "print(df_merged.TYPE.value_counts())\n",
    "df_merged.TYPE.value_counts().plot(kind='bar')"
   ]
  },
  {
   "cell_type": "code",
   "execution_count": 89,
   "metadata": {},
   "outputs": [
    {
     "name": "stdout",
     "output_type": "stream",
     "text": [
      "NONE              1107\n",
      "CURED IN PLACE     155\n",
      "FOLD AND FORM       11\n",
      "UNKNOWN              4\n",
      "Cured in Place       3\n",
      "Name: LINING_TYP, dtype: int64\n"
     ]
    },
    {
     "data": {
      "text/plain": [
       "<AxesSubplot:>"
      ]
     },
     "execution_count": 89,
     "metadata": {},
     "output_type": "execute_result"
    },
    {
     "data": {
      "image/png": "[encoded data removed]",
      "text/plain": [
       "<Figure size 432x288 with 1 Axes>"
      ]
     },
     "metadata": {
      "needs_background": "light"
     },
     "output_type": "display_data"
    }
   ],
   "source": [
    "print(df_merged.LINING_TYP.value_counts())\n",
    "df_merged.LINING_TYP.value_counts().plot(kind='bar')"
   ]
  },
  {
   "cell_type": "markdown",
   "metadata": {},
   "source": [
    "I noticed some inconsistencies and fixed them below"
   ]
  },
  {
   "cell_type": "code",
   "execution_count": 90,
   "metadata": {},
   "outputs": [],
   "source": [
    "df_merged.replace({\n",
    "    'Cured in Place': 'CURED IN PLACE'\n",
    "}, inplace=True)"
   ]
  },
  {
   "cell_type": "code",
   "execution_count": 91,
   "metadata": {},
   "outputs": [
    {
     "name": "stdout",
     "output_type": "stream",
     "text": [
      "NONE              1107\n",
      "CURED IN PLACE     158\n",
      "FOLD AND FORM       11\n",
      "UNKNOWN              4\n",
      "Name: LINING_TYP, dtype: int64\n"
     ]
    },
    {
     "data": {
      "text/plain": [
       "<AxesSubplot:>"
      ]
     },
     "execution_count": 91,
     "metadata": {},
     "output_type": "execute_result"
    },
    {
     "data": {
      "image/png": "[encoded data removed]",
      "text/plain": [
       "<Figure size 432x288 with 1 Axes>"
      ]
     },
     "metadata": {
      "needs_background": "light"
     },
     "output_type": "display_data"
    }
   ],
   "source": [
    "print(df_merged.LINING_TYP.value_counts())\n",
    "df_merged.LINING_TYP.value_counts().plot(kind='bar')"
   ]
  },
  {
   "cell_type": "code",
   "execution_count": 92,
   "metadata": {},
   "outputs": [
    {
     "data": {
      "text/plain": [
       "<AxesSubplot:>"
      ]
     },
     "execution_count": 92,
     "metadata": {},
     "output_type": "execute_result"
    },
    {
     "data": {
      "image/png": "[encoded data removed]",
      "text/plain": [
       "<Figure size 432x288 with 1 Axes>"
      ]
     },
     "metadata": {
      "needs_background": "light"
     },
     "output_type": "display_data"
    }
   ],
   "source": [
    "df_merged.PIPE_SIZE.hist()"
   ]
  },
  {
   "cell_type": "code",
   "execution_count": 93,
   "metadata": {},
   "outputs": [
    {
     "name": "stdout",
     "output_type": "stream",
     "text": [
      "VITRIFIED CLAY PIPE                963\n",
      "POLYVINYL CHLORIDE                 113\n",
      "UNKNOWN                             86\n",
      "CAST IRON                           44\n",
      "DUCTILE IRON PIPE                   43\n",
      "ACRYLONITRILE BUTADIENE STYRENE     14\n",
      "CONCRETE PIPE                       11\n",
      "ASBESTOS CEMENT                      3\n",
      "REINFORCED PLASTIC PIPE              3\n",
      "Name: PIPE_MATER, dtype: int64\n"
     ]
    },
    {
     "data": {
      "text/plain": [
       "<AxesSubplot:>"
      ]
     },
     "execution_count": 93,
     "metadata": {},
     "output_type": "execute_result"
    },
    {
     "data": {
      "image/png": "[encoded data removed]",
      "text/plain": [
       "<Figure size 432x288 with 1 Axes>"
      ]
     },
     "metadata": {
      "needs_background": "light"
     },
     "output_type": "display_data"
    }
   ],
   "source": [
    "\n",
    "print(df_merged.PIPE_MATER.value_counts())\n",
    "df_merged.PIPE_MATER.value_counts().plot(kind='bar')"
   ]
  },
  {
   "cell_type": "code",
   "execution_count": 94,
   "metadata": {},
   "outputs": [
    {
     "data": {
      "text/plain": [
       "<AxesSubplot:>"
      ]
     },
     "execution_count": 94,
     "metadata": {},
     "output_type": "execute_result"
    },
    {
     "data": {
      "image/png": "[encoded data removed]",
      "text/plain": [
       "<Figure size 432x288 with 1 Axes>"
      ]
     },
     "metadata": {
      "needs_background": "light"
     },
     "output_type": "display_data"
    }
   ],
   "source": [
    "df_merged.SLOPE.hist()"
   ]
  },
  {
   "cell_type": "code",
   "execution_count": 95,
   "metadata": {},
   "outputs": [
    {
     "data": {
      "text/plain": [
       "<AxesSubplot:>"
      ]
     },
     "execution_count": 95,
     "metadata": {},
     "output_type": "execute_result"
    },
    {
     "data": {
      "image/png": "[encoded data removed]",
      "text/plain": [
       "<Figure size 432x288 with 1 Axes>"
      ]
     },
     "metadata": {
      "needs_background": "light"
     },
     "output_type": "display_data"
    }
   ],
   "source": [
    "df_merged.LENGTH.hist()"
   ]
  },
  {
   "cell_type": "markdown",
   "metadata": {},
   "source": [
    "### 12. Calculating Target Values\n",
    "\n",
    "The target variable will be 1 or 0. If the target variable is 0, it needs to clean within five months; otherwise, the pipeline doesn't require cleaning.\n",
    "\n"
   ]
  },
  {
   "cell_type": "code",
   "execution_count": null,
   "metadata": {},
   "outputs": [],
   "source": []
  },
  {
   "cell_type": "code",
   "execution_count": null,
   "metadata": {},
   "outputs": [],
   "source": []
  }
 ],
 "metadata": {
  "colab": {
   "name": "SL-RAT EDA.ipynb",
   "provenance": []
  },
  "kernelspec": {
   "display_name": "Python 3 (ipykernel)",
   "language": "python",
   "name": "python3"
  },
  "language_info": {
   "codemirror_mode": {
    "name": "ipython",
    "version": 3
   },
   "file_extension": ".py",
   "mimetype": "text/x-python",
   "name": "python",
   "nbconvert_exporter": "python",
   "pygments_lexer": "ipython3",
   "version": "3.9.7"
  }
 },
 "nbformat": 4,
 "nbformat_minor": 1
}
